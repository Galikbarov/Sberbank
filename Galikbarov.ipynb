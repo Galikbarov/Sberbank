{
 "cells": [
  {
   "cell_type": "markdown",
   "id": "6f48aa20",
   "metadata": {},
   "source": [
    " <a id=\"0\"></a> <br>\n",
    "**Содержание** \n",
    "1. [Предобработка данных](#1)\n",
    "1. [Предварительная оценка эффективности акций](#2)\n",
    "1. [Анализ эффективности акций (t-test)](#3) \n",
    "1. [Результат в виде саммари-таблиц](#4) \n",
    "1. [Общий вывод](#5)"
   ]
  },
  {
   "cell_type": "markdown",
   "id": "4ba8d073",
   "metadata": {},
   "source": [
    "**Условие задачи:**\n",
    "\n",
    "Компания «ИП Иванов» является партнером программы лояльности Спасибо. Базовые условия сотрудничества для партнера: \n",
    "*\tНачисление участникам программы лояльности 3% от суммы покупки в виде бонусов;\n",
    "*\tУчастники программы могут списывать у партнера свои накопленные бонусы.\n",
    "\n",
    "*Начисление баллов осуществляется только на часть чека, которую партнер оплатил рублями.*\n",
    "\n",
    "Партнер проводил две акции на привлечение клиентов в период 03.12.2019-03.01.2020.\n",
    "1.\tПовышенное начисление 7% на первую покупку для клиентов из сегмента «Новые» – клиенты без покупок у партнера 6 и более месяцев\n",
    "2.\tПовышенное начисление 6% на первую покупку для клиентов из сегмента «Отток» - клиенты без покупки у партнера от 3 до 6 месяцев, но ранее совершали покупки у партнера.\n",
    "<a id=\"12\"></a> <br>\n",
    "Для каждой акции подготовлена целевая и контрольная группы. На целевую группу высылается коммуникация о старте акции. Контрольная группа без коммуникации, предназначена для выделения эффектов акции при анализе. Количество клиентов в каждой группе ниже:\n",
    "* 1.1.\tЦелевая 7% на Новых: 459939 участников\n",
    "* 1.2.\tКонтрольная 7% на Новых: 51100 участников\n",
    "* 2.1. Целевая 6% на Отток: 32224 участников\n",
    "* 2.2. Контрольная 6% на Отток: 3576 участников\n",
    "\n",
    "Прилагаются данные по транзакционной активности в период акции.\n",
    "Перечень метрик и атрибутов:\n",
    "* datetime – дата свершения транзакции\n",
    "* promo – идентификатор акции\n",
    "* control_group_flg – маркер контрольной группы\n",
    "* customer_id – идентификатор клиента\n",
    "* transaction_id – идентификатор свершенной транзакции\n",
    "* transaction_amt – оборот по транзакции (рубли + бонусы)\n",
    "* monetary_amt – оборот по транзакции (рубли)\n",
    "* bonus_turn_amt – сумма начисленных бонусов по транзакции\n",
    "\n",
    "**Задание:**\n",
    "\n",
    "Провести анализ акции на основании сравнения целевой и контрольной группы. Оценить эффективность акции. Проанализировать ключевые метрики. При наличии положительного эффекта посчитать дополнительный оборот от акции для партнера. Покажите результат в виде саммари-таблицы.\n",
    "\n",
    "**Примечание:**\n",
    "\n",
    "Сохраняйте все промежуточные расчеты в файле. Оставляйте комментарии, если необходимо.\n"
   ]
  },
  {
   "cell_type": "markdown",
   "id": "c22f9437",
   "metadata": {},
   "source": [
    "<a id=\"1\"></a> <br>\n",
    "***\n",
    "# Предобратока данных"
   ]
  },
  {
   "cell_type": "markdown",
   "id": "ddd47387",
   "metadata": {},
   "source": [
    "Импортируем библиотки:"
   ]
  },
  {
   "cell_type": "code",
   "execution_count": 1,
   "id": "dddd92aa",
   "metadata": {},
   "outputs": [],
   "source": [
    "# библиотеки\n",
    "import pandas as pd\n",
    "import numpy as np\n",
    "import matplotlib.pyplot as plt\n",
    "from scipy import stats as st\n",
    "\n",
    "#добавим констатну\n",
    "RANDOM_STATE=42"
   ]
  },
  {
   "cell_type": "markdown",
   "id": "63f925eb",
   "metadata": {},
   "source": [
    "* Верcия pandas: 1.2.4\n",
    "* Верcия numpy: 1.23.5\n",
    "* Верcия matplotlib.pyplot: 3.3.4\n",
    "* Верcия scipy: 1.10.0"
   ]
  },
  {
   "cell_type": "code",
   "execution_count": 2,
   "id": "021079ed",
   "metadata": {},
   "outputs": [],
   "source": [
    "# выполним проверку на ошибку методом try-except\n",
    "try:\n",
    "    data = pd.read_excel('/Users/roman/Desktop/Data Scientist/Тестовые задания/Сбербанк/hw_1_dataset.xlsx')\n",
    "# если при выгрузке таблицы что-то пойдёт не так, получим уведомление \n",
    "except:\n",
    "    print('Что-то пошло не так.')"
   ]
  },
  {
   "cell_type": "code",
   "execution_count": 3,
   "id": "dc83a94c",
   "metadata": {},
   "outputs": [
    {
     "data": {
      "text/html": [
       "<div>\n",
       "<style scoped>\n",
       "    .dataframe tbody tr th:only-of-type {\n",
       "        vertical-align: middle;\n",
       "    }\n",
       "\n",
       "    .dataframe tbody tr th {\n",
       "        vertical-align: top;\n",
       "    }\n",
       "\n",
       "    .dataframe thead th {\n",
       "        text-align: right;\n",
       "    }\n",
       "</style>\n",
       "<table border=\"1\" class=\"dataframe\">\n",
       "  <thead>\n",
       "    <tr style=\"text-align: right;\">\n",
       "      <th></th>\n",
       "      <th>datetime</th>\n",
       "      <th>promo</th>\n",
       "      <th>control_group_flg</th>\n",
       "      <th>customer_id</th>\n",
       "      <th>transaction_id</th>\n",
       "      <th>transaction_amt</th>\n",
       "      <th>monetary_amt</th>\n",
       "      <th>bonus_turn_amt</th>\n",
       "    </tr>\n",
       "  </thead>\n",
       "  <tbody>\n",
       "    <tr>\n",
       "      <th>17286</th>\n",
       "      <td>2019-12-03 05:41:18</td>\n",
       "      <td>Целевая 7% на Новых</td>\n",
       "      <td>False</td>\n",
       "      <td>311639887</td>\n",
       "      <td>103879482293</td>\n",
       "      <td>166.681543</td>\n",
       "      <td>166.681543</td>\n",
       "      <td>11.667708</td>\n",
       "    </tr>\n",
       "    <tr>\n",
       "      <th>17888</th>\n",
       "      <td>2019-12-03 07:14:26</td>\n",
       "      <td>Целевая 7% на Новых</td>\n",
       "      <td>False</td>\n",
       "      <td>218637813</td>\n",
       "      <td>103883590625</td>\n",
       "      <td>224.596317</td>\n",
       "      <td>224.596317</td>\n",
       "      <td>15.721742</td>\n",
       "    </tr>\n",
       "    <tr>\n",
       "      <th>13858</th>\n",
       "      <td>2019-12-03 07:33:10</td>\n",
       "      <td>Контрольная 7% на Новых</td>\n",
       "      <td>True</td>\n",
       "      <td>231041972</td>\n",
       "      <td>103884463400</td>\n",
       "      <td>696.050824</td>\n",
       "      <td>348.562183</td>\n",
       "      <td>10.452910</td>\n",
       "    </tr>\n",
       "    <tr>\n",
       "      <th>17375</th>\n",
       "      <td>2019-12-03 07:55:38</td>\n",
       "      <td>Целевая 7% на Новых</td>\n",
       "      <td>False</td>\n",
       "      <td>212985746</td>\n",
       "      <td>103885074544</td>\n",
       "      <td>46.331819</td>\n",
       "      <td>46.331819</td>\n",
       "      <td>3.234752</td>\n",
       "    </tr>\n",
       "    <tr>\n",
       "      <th>16156</th>\n",
       "      <td>2019-12-03 07:58:40</td>\n",
       "      <td>Целевая 7% на Новых</td>\n",
       "      <td>False</td>\n",
       "      <td>215002763</td>\n",
       "      <td>103885116418</td>\n",
       "      <td>563.609625</td>\n",
       "      <td>282.511090</td>\n",
       "      <td>19.775776</td>\n",
       "    </tr>\n",
       "    <tr>\n",
       "      <th>4727</th>\n",
       "      <td>2019-12-03 07:59:13</td>\n",
       "      <td>Целевая 7% на Новых</td>\n",
       "      <td>False</td>\n",
       "      <td>233849658</td>\n",
       "      <td>103885149646</td>\n",
       "      <td>177.981987</td>\n",
       "      <td>177.981987</td>\n",
       "      <td>12.458739</td>\n",
       "    </tr>\n",
       "    <tr>\n",
       "      <th>12569</th>\n",
       "      <td>2019-12-03 08:03:50</td>\n",
       "      <td>Целевая 7% на Новых</td>\n",
       "      <td>False</td>\n",
       "      <td>213702610</td>\n",
       "      <td>103885188033</td>\n",
       "      <td>182.219653</td>\n",
       "      <td>91.816104</td>\n",
       "      <td>6.427127</td>\n",
       "    </tr>\n",
       "    <tr>\n",
       "      <th>10236</th>\n",
       "      <td>2019-12-03 08:04:20</td>\n",
       "      <td>Контрольная 7% на Новых</td>\n",
       "      <td>True</td>\n",
       "      <td>214604834</td>\n",
       "      <td>103885197465</td>\n",
       "      <td>13.984299</td>\n",
       "      <td>13.984299</td>\n",
       "      <td>0.423767</td>\n",
       "    </tr>\n",
       "    <tr>\n",
       "      <th>21991</th>\n",
       "      <td>2019-12-03 08:10:20</td>\n",
       "      <td>Целевая 7% на Новых</td>\n",
       "      <td>False</td>\n",
       "      <td>215065230</td>\n",
       "      <td>103885292491</td>\n",
       "      <td>81.928216</td>\n",
       "      <td>81.928216</td>\n",
       "      <td>5.734975</td>\n",
       "    </tr>\n",
       "    <tr>\n",
       "      <th>19843</th>\n",
       "      <td>2019-12-03 08:11:14</td>\n",
       "      <td>Целевая 7% на Новых</td>\n",
       "      <td>False</td>\n",
       "      <td>217838093</td>\n",
       "      <td>103885323471</td>\n",
       "      <td>139.842990</td>\n",
       "      <td>139.842990</td>\n",
       "      <td>9.789009</td>\n",
       "    </tr>\n",
       "  </tbody>\n",
       "</table>\n",
       "</div>"
      ],
      "text/plain": [
       "                 datetime                    promo  control_group_flg  \\\n",
       "17286 2019-12-03 05:41:18      Целевая 7% на Новых              False   \n",
       "17888 2019-12-03 07:14:26      Целевая 7% на Новых              False   \n",
       "13858 2019-12-03 07:33:10  Контрольная 7% на Новых               True   \n",
       "17375 2019-12-03 07:55:38      Целевая 7% на Новых              False   \n",
       "16156 2019-12-03 07:58:40      Целевая 7% на Новых              False   \n",
       "4727  2019-12-03 07:59:13      Целевая 7% на Новых              False   \n",
       "12569 2019-12-03 08:03:50      Целевая 7% на Новых              False   \n",
       "10236 2019-12-03 08:04:20  Контрольная 7% на Новых               True   \n",
       "21991 2019-12-03 08:10:20      Целевая 7% на Новых              False   \n",
       "19843 2019-12-03 08:11:14      Целевая 7% на Новых              False   \n",
       "\n",
       "       customer_id  transaction_id  transaction_amt  monetary_amt  \\\n",
       "17286    311639887    103879482293       166.681543    166.681543   \n",
       "17888    218637813    103883590625       224.596317    224.596317   \n",
       "13858    231041972    103884463400       696.050824    348.562183   \n",
       "17375    212985746    103885074544        46.331819     46.331819   \n",
       "16156    215002763    103885116418       563.609625    282.511090   \n",
       "4727     233849658    103885149646       177.981987    177.981987   \n",
       "12569    213702610    103885188033       182.219653     91.816104   \n",
       "10236    214604834    103885197465        13.984299     13.984299   \n",
       "21991    215065230    103885292491        81.928216     81.928216   \n",
       "19843    217838093    103885323471       139.842990    139.842990   \n",
       "\n",
       "       bonus_turn_amt  \n",
       "17286       11.667708  \n",
       "17888       15.721742  \n",
       "13858       10.452910  \n",
       "17375        3.234752  \n",
       "16156       19.775776  \n",
       "4727        12.458739  \n",
       "12569        6.427127  \n",
       "10236        0.423767  \n",
       "21991        5.734975  \n",
       "19843        9.789009  "
      ]
     },
     "execution_count": 3,
     "metadata": {},
     "output_type": "execute_result"
    }
   ],
   "source": [
    "# методом .head() выведем заданое кол-во строк датафрейма\n",
    "# методом .sort_values() отсорируем его по возрастанию даты\n",
    "data = data.sort_values(by='datetime', ascending=True)\n",
    "data.head(10)"
   ]
  },
  {
   "cell_type": "markdown",
   "id": "eed2d580",
   "metadata": {},
   "source": [
    "Дубликаты отсутствуют:"
   ]
  },
  {
   "cell_type": "code",
   "execution_count": 4,
   "id": "d55cffa7",
   "metadata": {},
   "outputs": [
    {
     "data": {
      "text/plain": [
       "0"
      ]
     },
     "execution_count": 4,
     "metadata": {},
     "output_type": "execute_result"
    }
   ],
   "source": [
    "# функция .duplicated() используется для поиска повторяющихся значений\n",
    "# c помощью агрегирующей функции .sum() выведем сумму найденных дубликатов\n",
    "data.duplicated().sum()"
   ]
  },
  {
   "cell_type": "markdown",
   "id": "7bb26aec",
   "metadata": {},
   "source": [
    "Посмотрим информацию о датафрейме:"
   ]
  },
  {
   "cell_type": "code",
   "execution_count": 5,
   "id": "0254b066",
   "metadata": {
    "scrolled": true
   },
   "outputs": [
    {
     "name": "stdout",
     "output_type": "stream",
     "text": [
      "<class 'pandas.core.frame.DataFrame'>\n",
      "Int64Index: 23134 entries, 17286 to 11541\n",
      "Data columns (total 8 columns):\n",
      " #   Column             Non-Null Count  Dtype         \n",
      "---  ------             --------------  -----         \n",
      " 0   datetime           23134 non-null  datetime64[ns]\n",
      " 1   promo              23134 non-null  object        \n",
      " 2   control_group_flg  23134 non-null  bool          \n",
      " 3   customer_id        23134 non-null  int64         \n",
      " 4   transaction_id     23134 non-null  int64         \n",
      " 5   transaction_amt    23134 non-null  float64       \n",
      " 6   monetary_amt       23134 non-null  float64       \n",
      " 7   bonus_turn_amt     23134 non-null  float64       \n",
      "dtypes: bool(1), datetime64[ns](1), float64(3), int64(2), object(1)\n",
      "memory usage: 1.4+ MB\n"
     ]
    }
   ],
   "source": [
    "data.info()"
   ]
  },
  {
   "cell_type": "markdown",
   "id": "214f0ec5",
   "metadata": {},
   "source": [
    "**Выводы:**\n",
    "\n",
    "Мы имеет датасет в котором:\n",
    "* 23134 значений весом 1.8+ MB;\n",
    "* все столбцы имеют корретный тип данных;\n",
    "* все столбцы приведены к единому змеиному_регистру;\n",
    "* пропусуки в данных отсутствуют."
   ]
  },
  {
   "cell_type": "markdown",
   "id": "62074916",
   "metadata": {},
   "source": [
    "Добавим новые признаки для лучшей оценки эффективности:"
   ]
  },
  {
   "cell_type": "code",
   "execution_count": 6,
   "id": "9b976ae0",
   "metadata": {},
   "outputs": [],
   "source": [
    "# добавим новый признак, который будет содержать кол-во потраченых бонусов за транзацкию\n",
    "data['bonus_amt'] = data['transaction_amt'] - data['monetary_amt']"
   ]
  },
  {
   "cell_type": "code",
   "execution_count": 7,
   "id": "1872b6ca",
   "metadata": {},
   "outputs": [],
   "source": [
    "# добавим новый признак, который покажет какой процент от покупки составляли бонус\n",
    "data['bonus_percentage'] = (data['bonus_amt'] / data['transaction_amt']).round(2)"
   ]
  },
  {
   "cell_type": "markdown",
   "id": "2227192e",
   "metadata": {},
   "source": [
    "Используем метод `.describe()` для быстрого анализа описательной статистики числовых данных в DataFrame. Он возвращает сводку со следующими статистическими показателями для каждого числового столбца."
   ]
  },
  {
   "cell_type": "code",
   "execution_count": 8,
   "id": "abd5024a",
   "metadata": {},
   "outputs": [
    {
     "data": {
      "text/html": [
       "<div>\n",
       "<style scoped>\n",
       "    .dataframe tbody tr th:only-of-type {\n",
       "        vertical-align: middle;\n",
       "    }\n",
       "\n",
       "    .dataframe tbody tr th {\n",
       "        vertical-align: top;\n",
       "    }\n",
       "\n",
       "    .dataframe thead th {\n",
       "        text-align: right;\n",
       "    }\n",
       "</style>\n",
       "<table border=\"1\" class=\"dataframe\">\n",
       "  <thead>\n",
       "    <tr style=\"text-align: right;\">\n",
       "      <th></th>\n",
       "      <th>customer_id</th>\n",
       "      <th>transaction_id</th>\n",
       "      <th>transaction_amt</th>\n",
       "      <th>monetary_amt</th>\n",
       "      <th>bonus_turn_amt</th>\n",
       "      <th>bonus_amt</th>\n",
       "      <th>bonus_percentage</th>\n",
       "    </tr>\n",
       "  </thead>\n",
       "  <tbody>\n",
       "    <tr>\n",
       "      <th>count</th>\n",
       "      <td>2.313400e+04</td>\n",
       "      <td>2.313400e+04</td>\n",
       "      <td>23134.000000</td>\n",
       "      <td>23134.000000</td>\n",
       "      <td>23134.000000</td>\n",
       "      <td>23134.000000</td>\n",
       "      <td>23125.000000</td>\n",
       "    </tr>\n",
       "    <tr>\n",
       "      <th>mean</th>\n",
       "      <td>2.310358e+08</td>\n",
       "      <td>1.055184e+11</td>\n",
       "      <td>665.566046</td>\n",
       "      <td>457.533739</td>\n",
       "      <td>26.635838</td>\n",
       "      <td>208.032307</td>\n",
       "      <td>0.267917</td>\n",
       "    </tr>\n",
       "    <tr>\n",
       "      <th>std</th>\n",
       "      <td>2.728569e+07</td>\n",
       "      <td>9.352408e+08</td>\n",
       "      <td>1100.256485</td>\n",
       "      <td>917.749191</td>\n",
       "      <td>56.831020</td>\n",
       "      <td>350.192356</td>\n",
       "      <td>0.236776</td>\n",
       "    </tr>\n",
       "    <tr>\n",
       "      <th>min</th>\n",
       "      <td>2.022568e+08</td>\n",
       "      <td>1.038795e+11</td>\n",
       "      <td>0.000000</td>\n",
       "      <td>0.000000</td>\n",
       "      <td>0.000000</td>\n",
       "      <td>0.000000</td>\n",
       "      <td>0.000000</td>\n",
       "    </tr>\n",
       "    <tr>\n",
       "      <th>25%</th>\n",
       "      <td>2.133714e+08</td>\n",
       "      <td>1.047570e+11</td>\n",
       "      <td>125.717435</td>\n",
       "      <td>91.109827</td>\n",
       "      <td>4.845065</td>\n",
       "      <td>0.000000</td>\n",
       "      <td>0.000000</td>\n",
       "    </tr>\n",
       "    <tr>\n",
       "      <th>50%</th>\n",
       "      <td>2.208538e+08</td>\n",
       "      <td>1.054848e+11</td>\n",
       "      <td>348.971824</td>\n",
       "      <td>223.155510</td>\n",
       "      <td>12.077349</td>\n",
       "      <td>72.040328</td>\n",
       "      <td>0.390000</td>\n",
       "    </tr>\n",
       "    <tr>\n",
       "      <th>75%</th>\n",
       "      <td>2.396342e+08</td>\n",
       "      <td>1.063006e+11</td>\n",
       "      <td>832.807380</td>\n",
       "      <td>514.170184</td>\n",
       "      <td>29.289337</td>\n",
       "      <td>284.965405</td>\n",
       "      <td>0.500000</td>\n",
       "    </tr>\n",
       "    <tr>\n",
       "      <th>max</th>\n",
       "      <td>4.504294e+08</td>\n",
       "      <td>1.070389e+11</td>\n",
       "      <td>84372.389133</td>\n",
       "      <td>84372.389133</td>\n",
       "      <td>5062.344478</td>\n",
       "      <td>7119.279475</td>\n",
       "      <td>0.510000</td>\n",
       "    </tr>\n",
       "  </tbody>\n",
       "</table>\n",
       "</div>"
      ],
      "text/plain": [
       "        customer_id  transaction_id  transaction_amt  monetary_amt  \\\n",
       "count  2.313400e+04    2.313400e+04     23134.000000  23134.000000   \n",
       "mean   2.310358e+08    1.055184e+11       665.566046    457.533739   \n",
       "std    2.728569e+07    9.352408e+08      1100.256485    917.749191   \n",
       "min    2.022568e+08    1.038795e+11         0.000000      0.000000   \n",
       "25%    2.133714e+08    1.047570e+11       125.717435     91.109827   \n",
       "50%    2.208538e+08    1.054848e+11       348.971824    223.155510   \n",
       "75%    2.396342e+08    1.063006e+11       832.807380    514.170184   \n",
       "max    4.504294e+08    1.070389e+11     84372.389133  84372.389133   \n",
       "\n",
       "       bonus_turn_amt     bonus_amt  bonus_percentage  \n",
       "count    23134.000000  23134.000000      23125.000000  \n",
       "mean        26.635838    208.032307          0.267917  \n",
       "std         56.831020    350.192356          0.236776  \n",
       "min          0.000000      0.000000          0.000000  \n",
       "25%          4.845065      0.000000          0.000000  \n",
       "50%         12.077349     72.040328          0.390000  \n",
       "75%         29.289337    284.965405          0.500000  \n",
       "max       5062.344478   7119.279475          0.510000  "
      ]
     },
     "execution_count": 8,
     "metadata": {},
     "output_type": "execute_result"
    }
   ],
   "source": [
    "data.describe()"
   ]
  },
  {
   "cell_type": "markdown",
   "id": "14e69d4f",
   "metadata": {},
   "source": [
    "<a id=\"8\"></a> <br>\n",
    "**Вывод:**\n",
    "\n",
    "Видим, что есть транзакции с нулевым значением. В остальном данные выглядят корркетно, рассмотрим их детальнее чуть ниже."
   ]
  },
  {
   "cell_type": "markdown",
   "id": "3daf4837",
   "metadata": {},
   "source": [
    "Посчитаем количество транзакции с нулевым значением:"
   ]
  },
  {
   "cell_type": "code",
   "execution_count": 9,
   "id": "00e7fd80",
   "metadata": {},
   "outputs": [
    {
     "name": "stdout",
     "output_type": "stream",
     "text": [
      "Количество транзакций с нулевым значением:\n",
      "9\n"
     ]
    }
   ],
   "source": [
    "print('Количество транзакций с нулевым значением:')\n",
    "print(data.query('transaction_amt == 0')['transaction_amt'].count())"
   ]
  },
  {
   "cell_type": "markdown",
   "id": "1d96f831",
   "metadata": {},
   "source": [
    "Избавимся от аномальных транзакций с нуловой стоимостью."
   ]
  },
  {
   "cell_type": "code",
   "execution_count": 10,
   "id": "0afd54ae",
   "metadata": {},
   "outputs": [],
   "source": [
    "# методом .query() отфильтруем датафрейм\n",
    "data = data.query('transaction_amt > 0')"
   ]
  },
  {
   "cell_type": "code",
   "execution_count": 11,
   "id": "f1e8f668",
   "metadata": {},
   "outputs": [
    {
     "data": {
      "text/plain": [
       "(23125, 10)"
      ]
     },
     "execution_count": 11,
     "metadata": {},
     "output_type": "execute_result"
    }
   ],
   "source": [
    "# методом .shape выведем размер датафрейма\n",
    "data.shape"
   ]
  },
  {
   "cell_type": "markdown",
   "id": "c4381586",
   "metadata": {},
   "source": [
    "<a id=\"10\"></a> <br>\n",
    "Разобьем данные на 2 акции по 2 выборки в каждой - целевую и контрольную:"
   ]
  },
  {
   "cell_type": "code",
   "execution_count": 12,
   "id": "f01f47d1",
   "metadata": {},
   "outputs": [
    {
     "data": {
      "text/html": [
       "<div>\n",
       "<style scoped>\n",
       "    .dataframe tbody tr th:only-of-type {\n",
       "        vertical-align: middle;\n",
       "    }\n",
       "\n",
       "    .dataframe tbody tr th {\n",
       "        vertical-align: top;\n",
       "    }\n",
       "\n",
       "    .dataframe thead th {\n",
       "        text-align: right;\n",
       "    }\n",
       "</style>\n",
       "<table border=\"1\" class=\"dataframe\">\n",
       "  <thead>\n",
       "    <tr style=\"text-align: right;\">\n",
       "      <th></th>\n",
       "      <th>datetime</th>\n",
       "      <th>promo</th>\n",
       "      <th>control_group_flg</th>\n",
       "      <th>customer_id</th>\n",
       "      <th>transaction_id</th>\n",
       "      <th>transaction_amt</th>\n",
       "      <th>monetary_amt</th>\n",
       "      <th>bonus_turn_amt</th>\n",
       "      <th>bonus_amt</th>\n",
       "      <th>bonus_percentage</th>\n",
       "    </tr>\n",
       "  </thead>\n",
       "  <tbody>\n",
       "    <tr>\n",
       "      <th>0</th>\n",
       "      <td>2019-12-03 05:41:18</td>\n",
       "      <td>Целевая 7% на Новых</td>\n",
       "      <td>False</td>\n",
       "      <td>311639887</td>\n",
       "      <td>103879482293</td>\n",
       "      <td>166.681543</td>\n",
       "      <td>166.681543</td>\n",
       "      <td>11.667708</td>\n",
       "      <td>0.000000</td>\n",
       "      <td>0.0</td>\n",
       "    </tr>\n",
       "    <tr>\n",
       "      <th>1</th>\n",
       "      <td>2019-12-03 07:14:26</td>\n",
       "      <td>Целевая 7% на Новых</td>\n",
       "      <td>False</td>\n",
       "      <td>218637813</td>\n",
       "      <td>103883590625</td>\n",
       "      <td>224.596317</td>\n",
       "      <td>224.596317</td>\n",
       "      <td>15.721742</td>\n",
       "      <td>0.000000</td>\n",
       "      <td>0.0</td>\n",
       "    </tr>\n",
       "    <tr>\n",
       "      <th>2</th>\n",
       "      <td>2019-12-03 07:55:38</td>\n",
       "      <td>Целевая 7% на Новых</td>\n",
       "      <td>False</td>\n",
       "      <td>212985746</td>\n",
       "      <td>103885074544</td>\n",
       "      <td>46.331819</td>\n",
       "      <td>46.331819</td>\n",
       "      <td>3.234752</td>\n",
       "      <td>0.000000</td>\n",
       "      <td>0.0</td>\n",
       "    </tr>\n",
       "    <tr>\n",
       "      <th>3</th>\n",
       "      <td>2019-12-03 07:58:40</td>\n",
       "      <td>Целевая 7% на Новых</td>\n",
       "      <td>False</td>\n",
       "      <td>215002763</td>\n",
       "      <td>103885116418</td>\n",
       "      <td>563.609625</td>\n",
       "      <td>282.511090</td>\n",
       "      <td>19.775776</td>\n",
       "      <td>281.098535</td>\n",
       "      <td>0.5</td>\n",
       "    </tr>\n",
       "    <tr>\n",
       "      <th>4</th>\n",
       "      <td>2019-12-03 07:59:13</td>\n",
       "      <td>Целевая 7% на Новых</td>\n",
       "      <td>False</td>\n",
       "      <td>233849658</td>\n",
       "      <td>103885149646</td>\n",
       "      <td>177.981987</td>\n",
       "      <td>177.981987</td>\n",
       "      <td>12.458739</td>\n",
       "      <td>0.000000</td>\n",
       "      <td>0.0</td>\n",
       "    </tr>\n",
       "  </tbody>\n",
       "</table>\n",
       "</div>"
      ],
      "text/plain": [
       "             datetime                promo  control_group_flg  customer_id  \\\n",
       "0 2019-12-03 05:41:18  Целевая 7% на Новых              False    311639887   \n",
       "1 2019-12-03 07:14:26  Целевая 7% на Новых              False    218637813   \n",
       "2 2019-12-03 07:55:38  Целевая 7% на Новых              False    212985746   \n",
       "3 2019-12-03 07:58:40  Целевая 7% на Новых              False    215002763   \n",
       "4 2019-12-03 07:59:13  Целевая 7% на Новых              False    233849658   \n",
       "\n",
       "   transaction_id  transaction_amt  monetary_amt  bonus_turn_amt   bonus_amt  \\\n",
       "0    103879482293       166.681543    166.681543       11.667708    0.000000   \n",
       "1    103883590625       224.596317    224.596317       15.721742    0.000000   \n",
       "2    103885074544        46.331819     46.331819        3.234752    0.000000   \n",
       "3    103885116418       563.609625    282.511090       19.775776  281.098535   \n",
       "4    103885149646       177.981987    177.981987       12.458739    0.000000   \n",
       "\n",
       "   bonus_percentage  \n",
       "0               0.0  \n",
       "1               0.0  \n",
       "2               0.0  \n",
       "3               0.5  \n",
       "4               0.0  "
      ]
     },
     "execution_count": 12,
     "metadata": {},
     "output_type": "execute_result"
    }
   ],
   "source": [
    "# отфильтруем датафрейм по заданным значеням\n",
    "new = data.query(\"`promo`.str.contains('7')\")\n",
    "new_target = new.query('control_group_flg == False').reset_index(drop=True)\n",
    "new_control = new.query('control_group_flg == True').reset_index(drop=True)\n",
    "new_target.head(5)"
   ]
  },
  {
   "cell_type": "code",
   "execution_count": 13,
   "id": "0387407d",
   "metadata": {},
   "outputs": [
    {
     "data": {
      "text/html": [
       "<div>\n",
       "<style scoped>\n",
       "    .dataframe tbody tr th:only-of-type {\n",
       "        vertical-align: middle;\n",
       "    }\n",
       "\n",
       "    .dataframe tbody tr th {\n",
       "        vertical-align: top;\n",
       "    }\n",
       "\n",
       "    .dataframe thead th {\n",
       "        text-align: right;\n",
       "    }\n",
       "</style>\n",
       "<table border=\"1\" class=\"dataframe\">\n",
       "  <thead>\n",
       "    <tr style=\"text-align: right;\">\n",
       "      <th></th>\n",
       "      <th>datetime</th>\n",
       "      <th>promo</th>\n",
       "      <th>control_group_flg</th>\n",
       "      <th>customer_id</th>\n",
       "      <th>transaction_id</th>\n",
       "      <th>transaction_amt</th>\n",
       "      <th>monetary_amt</th>\n",
       "      <th>bonus_turn_amt</th>\n",
       "      <th>bonus_amt</th>\n",
       "      <th>bonus_percentage</th>\n",
       "    </tr>\n",
       "  </thead>\n",
       "  <tbody>\n",
       "    <tr>\n",
       "      <th>0</th>\n",
       "      <td>2019-12-03 09:01:06</td>\n",
       "      <td>Контрольная 6% на Отток</td>\n",
       "      <td>True</td>\n",
       "      <td>213644935</td>\n",
       "      <td>103886219495</td>\n",
       "      <td>24.013443</td>\n",
       "      <td>24.013443</td>\n",
       "      <td>0.720403</td>\n",
       "      <td>0.00000</td>\n",
       "      <td>0.0</td>\n",
       "    </tr>\n",
       "    <tr>\n",
       "      <th>1</th>\n",
       "      <td>2019-12-03 09:24:37</td>\n",
       "      <td>Контрольная 6% на Отток</td>\n",
       "      <td>True</td>\n",
       "      <td>213450097</td>\n",
       "      <td>103887319482</td>\n",
       "      <td>1002.801366</td>\n",
       "      <td>502.756736</td>\n",
       "      <td>15.086092</td>\n",
       "      <td>500.04463</td>\n",
       "      <td>0.5</td>\n",
       "    </tr>\n",
       "    <tr>\n",
       "      <th>2</th>\n",
       "      <td>2019-12-03 09:32:38</td>\n",
       "      <td>Контрольная 6% на Отток</td>\n",
       "      <td>True</td>\n",
       "      <td>238327644</td>\n",
       "      <td>103887748723</td>\n",
       "      <td>99.302648</td>\n",
       "      <td>99.302648</td>\n",
       "      <td>2.980492</td>\n",
       "      <td>0.00000</td>\n",
       "      <td>0.0</td>\n",
       "    </tr>\n",
       "    <tr>\n",
       "      <th>3</th>\n",
       "      <td>2019-12-03 10:12:02</td>\n",
       "      <td>Контрольная 6% на Отток</td>\n",
       "      <td>True</td>\n",
       "      <td>212772882</td>\n",
       "      <td>103890797431</td>\n",
       "      <td>2107.532734</td>\n",
       "      <td>2107.532734</td>\n",
       "      <td>63.225982</td>\n",
       "      <td>0.00000</td>\n",
       "      <td>0.0</td>\n",
       "    </tr>\n",
       "    <tr>\n",
       "      <th>4</th>\n",
       "      <td>2019-12-03 10:12:54</td>\n",
       "      <td>Контрольная 6% на Отток</td>\n",
       "      <td>True</td>\n",
       "      <td>212772882</td>\n",
       "      <td>103890914129</td>\n",
       "      <td>42.376664</td>\n",
       "      <td>42.376664</td>\n",
       "      <td>1.271300</td>\n",
       "      <td>0.00000</td>\n",
       "      <td>0.0</td>\n",
       "    </tr>\n",
       "  </tbody>\n",
       "</table>\n",
       "</div>"
      ],
      "text/plain": [
       "             datetime                    promo  control_group_flg  \\\n",
       "0 2019-12-03 09:01:06  Контрольная 6% на Отток               True   \n",
       "1 2019-12-03 09:24:37  Контрольная 6% на Отток               True   \n",
       "2 2019-12-03 09:32:38  Контрольная 6% на Отток               True   \n",
       "3 2019-12-03 10:12:02  Контрольная 6% на Отток               True   \n",
       "4 2019-12-03 10:12:54  Контрольная 6% на Отток               True   \n",
       "\n",
       "   customer_id  transaction_id  transaction_amt  monetary_amt  bonus_turn_amt  \\\n",
       "0    213644935    103886219495        24.013443     24.013443        0.720403   \n",
       "1    213450097    103887319482      1002.801366    502.756736       15.086092   \n",
       "2    238327644    103887748723        99.302648     99.302648        2.980492   \n",
       "3    212772882    103890797431      2107.532734   2107.532734       63.225982   \n",
       "4    212772882    103890914129        42.376664     42.376664        1.271300   \n",
       "\n",
       "   bonus_amt  bonus_percentage  \n",
       "0    0.00000               0.0  \n",
       "1  500.04463               0.5  \n",
       "2    0.00000               0.0  \n",
       "3    0.00000               0.0  \n",
       "4    0.00000               0.0  "
      ]
     },
     "execution_count": 13,
     "metadata": {},
     "output_type": "execute_result"
    }
   ],
   "source": [
    "outflow = data.query(\"`promo`.str.contains('6')\")\n",
    "outflow_target = outflow.query('control_group_flg == False').reset_index(drop=True)\n",
    "outflow_control = outflow.query('control_group_flg == True').reset_index(drop=True)\n",
    "outflow_control.head(5)"
   ]
  },
  {
   "cell_type": "markdown",
   "id": "c4e6a829",
   "metadata": {},
   "source": [
    "Удалим лишние столбцы, которые более не понадобятся в нашем исследовании:"
   ]
  },
  {
   "cell_type": "code",
   "execution_count": 14,
   "id": "e6656962",
   "metadata": {},
   "outputs": [],
   "source": [
    "# список DataFrame, из которых нужно удалить столбец\n",
    "dataframes = [new_target, new_control, outflow_target, outflow_control]\n",
    "\n",
    "# цикл для удаления столбца control_group_flg из каждого DataFrame\n",
    "for df in dataframes:\n",
    "    df.drop(columns=['control_group_flg', 'promo'], axis=1, inplace=True)"
   ]
  },
  {
   "cell_type": "markdown",
   "id": "ccb4633d",
   "metadata": {},
   "source": [
    "Сравним выборки и приведем их в размерный баланс."
   ]
  },
  {
   "cell_type": "markdown",
   "id": "af1bddfd",
   "metadata": {},
   "source": [
    "Для акции новых клиентов:"
   ]
  },
  {
   "cell_type": "code",
   "execution_count": 15,
   "id": "8a0f036e",
   "metadata": {},
   "outputs": [
    {
     "name": "stdout",
     "output_type": "stream",
     "text": [
      "Целевая группа для новых клиентов:\n",
      "16295\n",
      "Контрольная для новых клиентов:\n",
      "1775\n"
     ]
    }
   ],
   "source": [
    "print('Целевая группа для новых клиентов:') \n",
    "print(new_target.shape[0])\n",
    "print('Контрольная для новых клиентов:')\n",
    "print(new_control.shape[0])"
   ]
  },
  {
   "cell_type": "code",
   "execution_count": 16,
   "id": "114a08ab",
   "metadata": {},
   "outputs": [
    {
     "name": "stdout",
     "output_type": "stream",
     "text": [
      "Целевая группа (уровненная) для новых клиентов::\n",
      "1775\n",
      "Контрольная группа для новых клиентов:\n",
      "1775\n"
     ]
    }
   ],
   "source": [
    "# извлекаем случайное подмножество из целевой группы\n",
    "# значение replace=False в методе sample указывает, что выборка элементов\n",
    "# из outflow_target выполняется без повторений, то есть каждый элемент может быть выбран только один раз.\n",
    "new_target_sampled = new_target.sample(n=len(new_control),\n",
    "                                       replace=False,\n",
    "                                       random_state=RANDOM_STATE)\n",
    "\n",
    "# выводим результаты\n",
    "print('Целевая группа (уровненная) для новых клиентов::')\n",
    "print(new_target_sampled.shape[0])\n",
    "print('Контрольная группа для новых клиентов:')\n",
    "print(new_control.shape[0])"
   ]
  },
  {
   "cell_type": "markdown",
   "id": "85e8417e",
   "metadata": {},
   "source": [
    "**Вывод по разделу:**\n",
    "\n",
    "Мы подготовили и уровняли две выборки для t-теста. Эта функция используется для сравнения средних значений двух выборок и определения, есть ли статистически значимая разница между ними.\n",
    "\n",
    "Для максимальной объективности t-теста нам пришлось уровнять выборки по наименьшей, при этом потеряв около 85% значений целевой группы. \n",
    "\n",
    "**Рекомендация:**\n",
    "\n",
    "По возможности, нам стоит обратиться к заказчику, чтобы постараться увеличить размер контрольной группы для увеличения точности оценки эффективности акций."
   ]
  },
  {
   "cell_type": "markdown",
   "id": "e722cecb",
   "metadata": {},
   "source": [
    "Аналогично для акции \"оттока\":"
   ]
  },
  {
   "cell_type": "code",
   "execution_count": 17,
   "id": "ff72f182",
   "metadata": {},
   "outputs": [
    {
     "name": "stdout",
     "output_type": "stream",
     "text": [
      "Целевая группа для оттока:\n",
      "4622\n",
      "Контрольная для оттока клиентов:\n",
      "433\n"
     ]
    }
   ],
   "source": [
    "print('Целевая группа для оттока:') \n",
    "print(outflow_target.shape[0])\n",
    "print('Контрольная для оттока клиентов:')\n",
    "print(outflow_control.shape[0])"
   ]
  },
  {
   "cell_type": "code",
   "execution_count": 18,
   "id": "46f9aa8b",
   "metadata": {},
   "outputs": [
    {
     "name": "stdout",
     "output_type": "stream",
     "text": [
      "Целевая группа (уровненная) для старых клиентов:\n",
      "433\n",
      "Контрольная группа для новых клиентов:\n",
      "433\n"
     ]
    }
   ],
   "source": [
    "outflow_target_sampled = outflow_target.sample(n=len(outflow_control),\n",
    "                                               replace=False,\n",
    "                                               random_state=RANDOM_STATE)\n",
    "\n",
    "print('Целевая группа (уровненная) для старых клиентов:')\n",
    "print(outflow_target_sampled.shape[0])\n",
    "print('Контрольная группа для новых клиентов:')\n",
    "print(outflow_control.shape[0])"
   ]
  },
  {
   "cell_type": "markdown",
   "id": "179d0515",
   "metadata": {},
   "source": [
    "**Вывод:**\n",
    "\n",
    "На данном этапе мы изучили и обработали наш датафрейм - избавились от аномалий. Далее мы разбили его на 4 ключевых группы (2 акции по 2 группы - целевые и контрольные) и привели смежные группы к размерному балансу для дальншенего анализа и проведения t-теста.\n",
    "\n",
    "Размер датасета для новый клиентов: \n",
    "1775\n",
    "\n",
    "\n",
    "Размер датасета для старых клиентов: \n",
    "433"
   ]
  },
  {
   "cell_type": "markdown",
   "id": "22263518",
   "metadata": {},
   "source": [
    "<a id=\"2\"></a> <br>\n",
    "***\n",
    "# Предварительная оценка эффективности акций"
   ]
  },
  {
   "cell_type": "markdown",
   "id": "aa19990a",
   "metadata": {},
   "source": [
    "Проведём анализ акций на основании сравнения целевой и контрольной группы. Напомним описание столбцов:"
   ]
  },
  {
   "cell_type": "markdown",
   "id": "34193230",
   "metadata": {},
   "source": [
    "* `datetime` – дата свершения транзакции\n",
    "* `promo` – идентификатор акции\n",
    "* `control_group_flg` – маркер контрольной группы\n",
    "* `customer_id` – идентификатор клиента\n",
    "* `transaction_id` – идентификатор свершенной транзакции\n",
    "* `transaction_amt` – оборот по транзакции (рубли + бонусы)\n",
    "* `bonus_amt` - оборот по тразнакциям (бонусы)\n",
    "* `monetary_amt` – оборот по транзакции (рубли)\n",
    "* `bonus_turn_amt` – сумма начисленных бонусов по транзакции\n",
    "* `bonus_percentage` - доля бонусов в транзакции (от 0 до 0.5)"
   ]
  },
  {
   "cell_type": "markdown",
   "id": "d24fae27",
   "metadata": {},
   "source": [
    "***\n",
    "**Для новых клиентов:**"
   ]
  },
  {
   "cell_type": "markdown",
   "id": "842383cc",
   "metadata": {},
   "source": [
    "Используем метод `.describe()` для анализа полученных групп:"
   ]
  },
  {
   "cell_type": "markdown",
   "id": "8162f728",
   "metadata": {},
   "source": [
    "Для новых клиентов целевой группы:"
   ]
  },
  {
   "cell_type": "code",
   "execution_count": 19,
   "id": "ec1d41c3",
   "metadata": {},
   "outputs": [
    {
     "data": {
      "text/html": [
       "<div>\n",
       "<style scoped>\n",
       "    .dataframe tbody tr th:only-of-type {\n",
       "        vertical-align: middle;\n",
       "    }\n",
       "\n",
       "    .dataframe tbody tr th {\n",
       "        vertical-align: top;\n",
       "    }\n",
       "\n",
       "    .dataframe thead th {\n",
       "        text-align: right;\n",
       "    }\n",
       "</style>\n",
       "<table border=\"1\" class=\"dataframe\">\n",
       "  <thead>\n",
       "    <tr style=\"text-align: right;\">\n",
       "      <th></th>\n",
       "      <th>transaction_amt</th>\n",
       "      <th>bonus_amt</th>\n",
       "      <th>monetary_amt</th>\n",
       "      <th>bonus_turn_amt</th>\n",
       "      <th>bonus_percentage</th>\n",
       "    </tr>\n",
       "  </thead>\n",
       "  <tbody>\n",
       "    <tr>\n",
       "      <th>count</th>\n",
       "      <td>1775.000000</td>\n",
       "      <td>1775.000000</td>\n",
       "      <td>1775.000000</td>\n",
       "      <td>1775.000000</td>\n",
       "      <td>1775.000000</td>\n",
       "    </tr>\n",
       "    <tr>\n",
       "      <th>mean</th>\n",
       "      <td>658.055271</td>\n",
       "      <td>210.411889</td>\n",
       "      <td>447.643383</td>\n",
       "      <td>28.227545</td>\n",
       "      <td>0.265656</td>\n",
       "    </tr>\n",
       "    <tr>\n",
       "      <th>std</th>\n",
       "      <td>979.530428</td>\n",
       "      <td>365.010713</td>\n",
       "      <td>736.295466</td>\n",
       "      <td>49.534490</td>\n",
       "      <td>0.237600</td>\n",
       "    </tr>\n",
       "    <tr>\n",
       "      <th>min</th>\n",
       "      <td>2.825111</td>\n",
       "      <td>0.000000</td>\n",
       "      <td>2.825111</td>\n",
       "      <td>0.127130</td>\n",
       "      <td>0.000000</td>\n",
       "    </tr>\n",
       "    <tr>\n",
       "      <th>25%</th>\n",
       "      <td>125.717435</td>\n",
       "      <td>0.000000</td>\n",
       "      <td>91.816104</td>\n",
       "      <td>5.636096</td>\n",
       "      <td>0.000000</td>\n",
       "    </tr>\n",
       "    <tr>\n",
       "      <th>50%</th>\n",
       "      <td>344.663530</td>\n",
       "      <td>69.780239</td>\n",
       "      <td>224.596317</td>\n",
       "      <td>13.094389</td>\n",
       "      <td>0.370000</td>\n",
       "    </tr>\n",
       "    <tr>\n",
       "      <th>75%</th>\n",
       "      <td>816.457051</td>\n",
       "      <td>284.361538</td>\n",
       "      <td>510.921307</td>\n",
       "      <td>31.605928</td>\n",
       "      <td>0.500000</td>\n",
       "    </tr>\n",
       "    <tr>\n",
       "      <th>max</th>\n",
       "      <td>15326.226648</td>\n",
       "      <td>4350.670790</td>\n",
       "      <td>13512.505449</td>\n",
       "      <td>945.875381</td>\n",
       "      <td>0.500000</td>\n",
       "    </tr>\n",
       "  </tbody>\n",
       "</table>\n",
       "</div>"
      ],
      "text/plain": [
       "       transaction_amt    bonus_amt  monetary_amt  bonus_turn_amt  \\\n",
       "count      1775.000000  1775.000000   1775.000000     1775.000000   \n",
       "mean        658.055271   210.411889    447.643383       28.227545   \n",
       "std         979.530428   365.010713    736.295466       49.534490   \n",
       "min           2.825111     0.000000      2.825111        0.127130   \n",
       "25%         125.717435     0.000000     91.816104        5.636096   \n",
       "50%         344.663530    69.780239    224.596317       13.094389   \n",
       "75%         816.457051   284.361538    510.921307       31.605928   \n",
       "max       15326.226648  4350.670790  13512.505449      945.875381   \n",
       "\n",
       "       bonus_percentage  \n",
       "count       1775.000000  \n",
       "mean           0.265656  \n",
       "std            0.237600  \n",
       "min            0.000000  \n",
       "25%            0.000000  \n",
       "50%            0.370000  \n",
       "75%            0.500000  \n",
       "max            0.500000  "
      ]
     },
     "execution_count": 19,
     "metadata": {},
     "output_type": "execute_result"
    }
   ],
   "source": [
    "new_target_sampled[['transaction_amt',\n",
    "                    'bonus_amt',\n",
    "                    'monetary_amt',\n",
    "                    'bonus_turn_amt',\n",
    "                    'bonus_percentage']].describe()"
   ]
  },
  {
   "cell_type": "markdown",
   "id": "79b5a7fd",
   "metadata": {},
   "source": [
    "Для новых клиентов контрольной группы:"
   ]
  },
  {
   "cell_type": "code",
   "execution_count": 20,
   "id": "296c59aa",
   "metadata": {},
   "outputs": [
    {
     "data": {
      "text/html": [
       "<div>\n",
       "<style scoped>\n",
       "    .dataframe tbody tr th:only-of-type {\n",
       "        vertical-align: middle;\n",
       "    }\n",
       "\n",
       "    .dataframe tbody tr th {\n",
       "        vertical-align: top;\n",
       "    }\n",
       "\n",
       "    .dataframe thead th {\n",
       "        text-align: right;\n",
       "    }\n",
       "</style>\n",
       "<table border=\"1\" class=\"dataframe\">\n",
       "  <thead>\n",
       "    <tr style=\"text-align: right;\">\n",
       "      <th></th>\n",
       "      <th>transaction_amt</th>\n",
       "      <th>bonus_amt</th>\n",
       "      <th>monetary_amt</th>\n",
       "      <th>bonus_turn_amt</th>\n",
       "      <th>bonus_percentage</th>\n",
       "    </tr>\n",
       "  </thead>\n",
       "  <tbody>\n",
       "    <tr>\n",
       "      <th>count</th>\n",
       "      <td>1775.000000</td>\n",
       "      <td>1775.000000</td>\n",
       "      <td>1775.000000</td>\n",
       "      <td>1775.000000</td>\n",
       "      <td>1775.000000</td>\n",
       "    </tr>\n",
       "    <tr>\n",
       "      <th>mean</th>\n",
       "      <td>638.001472</td>\n",
       "      <td>208.840729</td>\n",
       "      <td>429.160743</td>\n",
       "      <td>12.875351</td>\n",
       "      <td>0.262930</td>\n",
       "    </tr>\n",
       "    <tr>\n",
       "      <th>std</th>\n",
       "      <td>991.124677</td>\n",
       "      <td>364.383968</td>\n",
       "      <td>733.091651</td>\n",
       "      <td>21.992639</td>\n",
       "      <td>0.239835</td>\n",
       "    </tr>\n",
       "    <tr>\n",
       "      <th>min</th>\n",
       "      <td>2.825111</td>\n",
       "      <td>0.000000</td>\n",
       "      <td>2.825111</td>\n",
       "      <td>0.084753</td>\n",
       "      <td>0.000000</td>\n",
       "    </tr>\n",
       "    <tr>\n",
       "      <th>25%</th>\n",
       "      <td>122.892324</td>\n",
       "      <td>0.000000</td>\n",
       "      <td>90.050410</td>\n",
       "      <td>2.697981</td>\n",
       "      <td>0.000000</td>\n",
       "    </tr>\n",
       "    <tr>\n",
       "      <th>50%</th>\n",
       "      <td>351.726307</td>\n",
       "      <td>67.802662</td>\n",
       "      <td>226.856406</td>\n",
       "      <td>6.808517</td>\n",
       "      <td>0.380000</td>\n",
       "    </tr>\n",
       "    <tr>\n",
       "      <th>75%</th>\n",
       "      <td>801.512214</td>\n",
       "      <td>307.866461</td>\n",
       "      <td>480.268853</td>\n",
       "      <td>14.408066</td>\n",
       "      <td>0.500000</td>\n",
       "    </tr>\n",
       "    <tr>\n",
       "      <th>max</th>\n",
       "      <td>18443.454019</td>\n",
       "      <td>6555.415590</td>\n",
       "      <td>11888.038428</td>\n",
       "      <td>356.642000</td>\n",
       "      <td>0.500000</td>\n",
       "    </tr>\n",
       "  </tbody>\n",
       "</table>\n",
       "</div>"
      ],
      "text/plain": [
       "       transaction_amt    bonus_amt  monetary_amt  bonus_turn_amt  \\\n",
       "count      1775.000000  1775.000000   1775.000000     1775.000000   \n",
       "mean        638.001472   208.840729    429.160743       12.875351   \n",
       "std         991.124677   364.383968    733.091651       21.992639   \n",
       "min           2.825111     0.000000      2.825111        0.084753   \n",
       "25%         122.892324     0.000000     90.050410        2.697981   \n",
       "50%         351.726307    67.802662    226.856406        6.808517   \n",
       "75%         801.512214   307.866461    480.268853       14.408066   \n",
       "max       18443.454019  6555.415590  11888.038428      356.642000   \n",
       "\n",
       "       bonus_percentage  \n",
       "count       1775.000000  \n",
       "mean           0.262930  \n",
       "std            0.239835  \n",
       "min            0.000000  \n",
       "25%            0.000000  \n",
       "50%            0.380000  \n",
       "75%            0.500000  \n",
       "max            0.500000  "
      ]
     },
     "execution_count": 20,
     "metadata": {},
     "output_type": "execute_result"
    }
   ],
   "source": [
    "new_control[['transaction_amt',\n",
    "             'bonus_amt',\n",
    "             'monetary_amt',\n",
    "             'bonus_turn_amt',\n",
    "             'bonus_percentage']].describe()"
   ]
  },
  {
   "cell_type": "markdown",
   "id": "08eb61bc",
   "metadata": {},
   "source": [
    "**Вывод:**\n",
    "\n",
    "Оценим показатели по средним значениям - `mean`:\n",
    "\n",
    "`bonus_turn_amt` - сумма начисленных бонусов по транзакции. Одназначно можно утверждать, что как минимум в 2 раза выросло количество начисляемых бонусов, что логично, учитывая особенность акции. Остальные показатели отличаются незначительно и требуют более глубокого статистического анализа - `t-теста`."
   ]
  },
  {
   "cell_type": "markdown",
   "id": "eb8a02dc",
   "metadata": {},
   "source": [
    "Сравним другие показатели, которых нет в методе `.describe()`:"
   ]
  },
  {
   "cell_type": "code",
   "execution_count": 21,
   "id": "6eb8fb57",
   "metadata": {},
   "outputs": [
    {
     "name": "stdout",
     "output_type": "stream",
     "text": [
      "Среднее количество покупок на нового клиента целевой группы:\n",
      "1.033\n",
      "Среднее количество покупок на нового клиента контрольной группы:\n",
      "1.204\n"
     ]
    }
   ],
   "source": [
    "# методом .pivot_table() создадим сводную таблицу\n",
    "# в которой параметром aggfunc='count' выведем \n",
    "# количество value - transaction_id по index - customer_id.\n",
    "new_target_customer = new_target_sampled.pivot_table(index='customer_id',\n",
    "                                    values='transaction_id',\n",
    "                                    aggfunc='count')\n",
    "new_target_customer = new_target_customer.rename(columns={'transaction_id': 'count'})\n",
    "\n",
    "\n",
    "new_control_customer = new_control.pivot_table(index='customer_id',\n",
    "                                    values='transaction_id',\n",
    "                                    aggfunc='count')\n",
    "# переименуем столбец сводной таблицы\n",
    "new_control_customer = new_control_customer.rename(columns={'transaction_id': 'count'})\n",
    "\n",
    "# сравним результаты\n",
    "print('Среднее количество покупок на нового клиента целевой группы:')\n",
    "print(new_target_customer['count'].mean().round(3))\n",
    "print('Среднее количество покупок на нового клиента контрольной группы:')\n",
    "print(new_control_customer['count'].mean().round(3))"
   ]
  },
  {
   "cell_type": "markdown",
   "id": "ab2a63fa",
   "metadata": {},
   "source": [
    "**Вывод:**\n",
    "\n",
    "Предварительно, можно сделать вывод о том, что клиенты целевой группы совершали **в среднем на 16.62% покупок меньше**, чем в контрольной группе. Это может объясняется тем, что выбор целевой группы пал на более дорогие вещи, однако сократив при этом их численность."
   ]
  },
  {
   "cell_type": "code",
   "execution_count": 22,
   "id": "fe7a6393",
   "metadata": {},
   "outputs": [
    {
     "name": "stdout",
     "output_type": "stream",
     "text": [
      "Средний оборот (рубли) нового клиента целевой группы:\n",
      "446.89\n",
      "Средний оборот (рубли) нового клиента контрольной группы:\n",
      "425.39\n"
     ]
    }
   ],
   "source": [
    "new_target_mean = new_target_sampled.pivot_table(index='customer_id',\n",
    "                                    values='monetary_amt',\n",
    "                                    aggfunc='mean')\n",
    "new_target_mean = new_target_mean.rename(columns={'monetary_amt': 'mean'})\n",
    "\n",
    "\n",
    "new_control_mean = new_control.pivot_table(index='customer_id',\n",
    "                                    values='monetary_amt',\n",
    "                                    aggfunc='mean')\n",
    "new_control_mean = new_control_mean.rename(columns={'monetary_amt': 'mean'})\n",
    "\n",
    "print('Средний оборот (рубли) нового клиента целевой группы:')\n",
    "print(new_target_mean['mean'].mean().round(2))\n",
    "print('Средний оборот (рубли) нового клиента контрольной группы:')\n",
    "print(new_control_mean['mean'].mean().round(2))"
   ]
  },
  {
   "cell_type": "markdown",
   "id": "5d986e79",
   "metadata": {},
   "source": [
    "**Вывод:**\n",
    "\n",
    "Предварительно, можно сделать вывод о том, что клиенты целевой группы совершали покупки товаров, которые **в среднем на 4.81% дороже**, чем у клиентов контрольной группы, что потверждает выдвинутое выше предположение."
   ]
  },
  {
   "cell_type": "code",
   "execution_count": 23,
   "id": "fa3deeee",
   "metadata": {},
   "outputs": [
    {
     "name": "stdout",
     "output_type": "stream",
     "text": [
      "Сумма оборота (рубли) новых клиентов целевой группы:\n",
      "794567.0\n",
      "Сумма оборота (рубли) новых клиентов контрольной группы:\n",
      "761760.32\n"
     ]
    }
   ],
   "source": [
    "new_target_sum = new_target_sampled.pivot_table(index='customer_id',\n",
    "                                    values='monetary_amt',\n",
    "                                    aggfunc='sum')\n",
    "new_target_sum = new_target_sum.rename(columns={'monetary_amt': 'sum'})\n",
    "\n",
    "\n",
    "new_control_sum = new_control.pivot_table(index='customer_id',\n",
    "                                    values='monetary_amt',\n",
    "                                    aggfunc='sum')\n",
    "new_control_sum = new_control_sum.rename(columns={'monetary_amt': 'sum'})\n",
    "\n",
    "print('Сумма оборота (рубли) новых клиентов целевой группы:')\n",
    "print(new_target_sum['sum'].sum().round(2))\n",
    "print('Сумма оборота (рубли) новых клиентов контрольной группы:')\n",
    "print(new_control_sum['sum'].sum().round(2))"
   ]
  },
  {
   "cell_type": "markdown",
   "id": "6694bef3",
   "metadata": {},
   "source": [
    "**Вывод:**\n",
    "\n",
    "Предварительно, можно сделать вывод о том, что клиенты целевой группы в совокупности **потратили на 4.13% больше**, чем клиенты контрольной группы. Можно предположить, что акция дала эффект - увеличила траты клиентов, однако, в этом ещё предстоить убедиться в проведя статистический тест.\n",
    "\n"
   ]
  },
  {
   "cell_type": "markdown",
   "id": "f9bb3447",
   "metadata": {},
   "source": [
    "***\n",
    "**Для старых клиентов:**"
   ]
  },
  {
   "cell_type": "markdown",
   "id": "8338800b",
   "metadata": {},
   "source": [
    "Для старых клиентов целевой группы:"
   ]
  },
  {
   "cell_type": "code",
   "execution_count": 24,
   "id": "d205b502",
   "metadata": {},
   "outputs": [
    {
     "data": {
      "text/html": [
       "<div>\n",
       "<style scoped>\n",
       "    .dataframe tbody tr th:only-of-type {\n",
       "        vertical-align: middle;\n",
       "    }\n",
       "\n",
       "    .dataframe tbody tr th {\n",
       "        vertical-align: top;\n",
       "    }\n",
       "\n",
       "    .dataframe thead th {\n",
       "        text-align: right;\n",
       "    }\n",
       "</style>\n",
       "<table border=\"1\" class=\"dataframe\">\n",
       "  <thead>\n",
       "    <tr style=\"text-align: right;\">\n",
       "      <th></th>\n",
       "      <th>transaction_amt</th>\n",
       "      <th>bonus_amt</th>\n",
       "      <th>monetary_amt</th>\n",
       "      <th>bonus_turn_amt</th>\n",
       "      <th>bonus_percentage</th>\n",
       "    </tr>\n",
       "  </thead>\n",
       "  <tbody>\n",
       "    <tr>\n",
       "      <th>count</th>\n",
       "      <td>433.000000</td>\n",
       "      <td>433.000000</td>\n",
       "      <td>433.000000</td>\n",
       "      <td>433.000000</td>\n",
       "      <td>433.000000</td>\n",
       "    </tr>\n",
       "    <tr>\n",
       "      <th>mean</th>\n",
       "      <td>670.807969</td>\n",
       "      <td>215.060360</td>\n",
       "      <td>455.747609</td>\n",
       "      <td>24.156884</td>\n",
       "      <td>0.280439</td>\n",
       "    </tr>\n",
       "    <tr>\n",
       "      <th>std</th>\n",
       "      <td>923.909474</td>\n",
       "      <td>356.328326</td>\n",
       "      <td>655.347844</td>\n",
       "      <td>37.653314</td>\n",
       "      <td>0.233493</td>\n",
       "    </tr>\n",
       "    <tr>\n",
       "      <th>min</th>\n",
       "      <td>12.712999</td>\n",
       "      <td>0.000000</td>\n",
       "      <td>12.712999</td>\n",
       "      <td>0.423767</td>\n",
       "      <td>0.000000</td>\n",
       "    </tr>\n",
       "    <tr>\n",
       "      <th>25%</th>\n",
       "      <td>141.255545</td>\n",
       "      <td>0.000000</td>\n",
       "      <td>103.116548</td>\n",
       "      <td>5.000446</td>\n",
       "      <td>0.000000</td>\n",
       "    </tr>\n",
       "    <tr>\n",
       "      <th>50%</th>\n",
       "      <td>363.733029</td>\n",
       "      <td>87.295927</td>\n",
       "      <td>237.662455</td>\n",
       "      <td>11.780712</td>\n",
       "      <td>0.450000</td>\n",
       "    </tr>\n",
       "    <tr>\n",
       "      <th>75%</th>\n",
       "      <td>832.023412</td>\n",
       "      <td>293.811534</td>\n",
       "      <td>513.322651</td>\n",
       "      <td>27.460078</td>\n",
       "      <td>0.500000</td>\n",
       "    </tr>\n",
       "    <tr>\n",
       "      <th>max</th>\n",
       "      <td>8217.258828</td>\n",
       "      <td>2757.308241</td>\n",
       "      <td>6088.113996</td>\n",
       "      <td>365.286840</td>\n",
       "      <td>0.500000</td>\n",
       "    </tr>\n",
       "  </tbody>\n",
       "</table>\n",
       "</div>"
      ],
      "text/plain": [
       "       transaction_amt    bonus_amt  monetary_amt  bonus_turn_amt  \\\n",
       "count       433.000000   433.000000    433.000000      433.000000   \n",
       "mean        670.807969   215.060360    455.747609       24.156884   \n",
       "std         923.909474   356.328326    655.347844       37.653314   \n",
       "min          12.712999     0.000000     12.712999        0.423767   \n",
       "25%         141.255545     0.000000    103.116548        5.000446   \n",
       "50%         363.733029    87.295927    237.662455       11.780712   \n",
       "75%         832.023412   293.811534    513.322651       27.460078   \n",
       "max        8217.258828  2757.308241   6088.113996      365.286840   \n",
       "\n",
       "       bonus_percentage  \n",
       "count        433.000000  \n",
       "mean           0.280439  \n",
       "std            0.233493  \n",
       "min            0.000000  \n",
       "25%            0.000000  \n",
       "50%            0.450000  \n",
       "75%            0.500000  \n",
       "max            0.500000  "
      ]
     },
     "execution_count": 24,
     "metadata": {},
     "output_type": "execute_result"
    }
   ],
   "source": [
    "outflow_target_sampled[['transaction_amt',\n",
    "                        'bonus_amt',\n",
    "                        'monetary_amt',\n",
    "                        'bonus_turn_amt',\n",
    "                        'bonus_percentage']].describe()"
   ]
  },
  {
   "cell_type": "markdown",
   "id": "6ff3f14e",
   "metadata": {},
   "source": [
    "<a id=\"6\"></a> <br>\n",
    "Для старых клиентов контрольной группы:"
   ]
  },
  {
   "cell_type": "code",
   "execution_count": 25,
   "id": "ac0c980e",
   "metadata": {},
   "outputs": [
    {
     "data": {
      "text/html": [
       "<div>\n",
       "<style scoped>\n",
       "    .dataframe tbody tr th:only-of-type {\n",
       "        vertical-align: middle;\n",
       "    }\n",
       "\n",
       "    .dataframe tbody tr th {\n",
       "        vertical-align: top;\n",
       "    }\n",
       "\n",
       "    .dataframe thead th {\n",
       "        text-align: right;\n",
       "    }\n",
       "</style>\n",
       "<table border=\"1\" class=\"dataframe\">\n",
       "  <thead>\n",
       "    <tr style=\"text-align: right;\">\n",
       "      <th></th>\n",
       "      <th>transaction_amt</th>\n",
       "      <th>bonus_amt</th>\n",
       "      <th>monetary_amt</th>\n",
       "      <th>bonus_turn_amt</th>\n",
       "      <th>bonus_percentage</th>\n",
       "    </tr>\n",
       "  </thead>\n",
       "  <tbody>\n",
       "    <tr>\n",
       "      <th>count</th>\n",
       "      <td>433.000000</td>\n",
       "      <td>433.000000</td>\n",
       "      <td>433.000000</td>\n",
       "      <td>433.000000</td>\n",
       "      <td>433.000000</td>\n",
       "    </tr>\n",
       "    <tr>\n",
       "      <th>mean</th>\n",
       "      <td>644.367117</td>\n",
       "      <td>177.126624</td>\n",
       "      <td>467.240492</td>\n",
       "      <td>14.017770</td>\n",
       "      <td>0.263441</td>\n",
       "    </tr>\n",
       "    <tr>\n",
       "      <th>std</th>\n",
       "      <td>821.632856</td>\n",
       "      <td>254.327781</td>\n",
       "      <td>691.376668</td>\n",
       "      <td>20.741396</td>\n",
       "      <td>0.236020</td>\n",
       "    </tr>\n",
       "    <tr>\n",
       "      <th>min</th>\n",
       "      <td>2.825111</td>\n",
       "      <td>0.000000</td>\n",
       "      <td>2.825111</td>\n",
       "      <td>0.084753</td>\n",
       "      <td>0.000000</td>\n",
       "    </tr>\n",
       "    <tr>\n",
       "      <th>25%</th>\n",
       "      <td>156.793655</td>\n",
       "      <td>0.000000</td>\n",
       "      <td>108.908025</td>\n",
       "      <td>3.263003</td>\n",
       "      <td>0.000000</td>\n",
       "    </tr>\n",
       "    <tr>\n",
       "      <th>50%</th>\n",
       "      <td>351.726307</td>\n",
       "      <td>81.928216</td>\n",
       "      <td>243.242049</td>\n",
       "      <td>7.302912</td>\n",
       "      <td>0.360000</td>\n",
       "    </tr>\n",
       "    <tr>\n",
       "      <th>75%</th>\n",
       "      <td>849.228337</td>\n",
       "      <td>271.210647</td>\n",
       "      <td>538.183627</td>\n",
       "      <td>16.145509</td>\n",
       "      <td>0.500000</td>\n",
       "    </tr>\n",
       "    <tr>\n",
       "      <th>max</th>\n",
       "      <td>6633.360400</td>\n",
       "      <td>1644.511182</td>\n",
       "      <td>5464.470764</td>\n",
       "      <td>163.941186</td>\n",
       "      <td>0.500000</td>\n",
       "    </tr>\n",
       "  </tbody>\n",
       "</table>\n",
       "</div>"
      ],
      "text/plain": [
       "       transaction_amt    bonus_amt  monetary_amt  bonus_turn_amt  \\\n",
       "count       433.000000   433.000000    433.000000      433.000000   \n",
       "mean        644.367117   177.126624    467.240492       14.017770   \n",
       "std         821.632856   254.327781    691.376668       20.741396   \n",
       "min           2.825111     0.000000      2.825111        0.084753   \n",
       "25%         156.793655     0.000000    108.908025        3.263003   \n",
       "50%         351.726307    81.928216    243.242049        7.302912   \n",
       "75%         849.228337   271.210647    538.183627       16.145509   \n",
       "max        6633.360400  1644.511182   5464.470764      163.941186   \n",
       "\n",
       "       bonus_percentage  \n",
       "count        433.000000  \n",
       "mean           0.263441  \n",
       "std            0.236020  \n",
       "min            0.000000  \n",
       "25%            0.000000  \n",
       "50%            0.360000  \n",
       "75%            0.500000  \n",
       "max            0.500000  "
      ]
     },
     "execution_count": 25,
     "metadata": {},
     "output_type": "execute_result"
    }
   ],
   "source": [
    "outflow_control[['transaction_amt',\n",
    "                 'bonus_amt',\n",
    "                 'monetary_amt',\n",
    "                 'bonus_turn_amt',\n",
    "                 'bonus_percentage']].describe()"
   ]
  },
  {
   "cell_type": "markdown",
   "id": "7a1827ef",
   "metadata": {},
   "source": [
    "**Вывод:**\n",
    "\n",
    "Оценим показатели по средним значениям - `mean`:\n",
    "\n",
    "`bonus_amt` - оборот по тразнакциям (бонусы). Из таблицы можно предположить, что на в 21.4% вырос оборот по бонусам."
   ]
  },
  {
   "cell_type": "markdown",
   "id": "f97d8d3d",
   "metadata": {},
   "source": [
    "Сравним другие показатели, которых нет в методе `.describe()`:"
   ]
  },
  {
   "cell_type": "code",
   "execution_count": 26,
   "id": "18edb84a",
   "metadata": {},
   "outputs": [
    {
     "name": "stdout",
     "output_type": "stream",
     "text": [
      "Среднее количество покупок на старого клиента целевой группы:\n",
      "1.036\n",
      "Среднее количество покупок на старого клиента контрольной группы:\n",
      "1.266\n"
     ]
    }
   ],
   "source": [
    "outflow_target_customer = outflow_target_sampled.pivot_table(index='customer_id',\n",
    "                                    values='transaction_id',\n",
    "                                    aggfunc='count')\n",
    "outflow_target_customer = outflow_target_customer.rename(columns={'transaction_id': 'count'})\n",
    "\n",
    "\n",
    "outflow_control_customer = outflow_control.pivot_table(index='customer_id',\n",
    "                                    values='transaction_id',\n",
    "                                    aggfunc='count')\n",
    "outflow_control_customer = outflow_control_customer.rename(columns={'transaction_id': 'count'})\n",
    "\n",
    "print('Среднее количество покупок на старого клиента целевой группы:')\n",
    "print(outflow_target_customer['count'].mean().round(3))\n",
    "print('Среднее количество покупок на старого клиента контрольной группы:')\n",
    "print(outflow_control_customer['count'].mean().round(3))"
   ]
  },
  {
   "cell_type": "markdown",
   "id": "b6922dba",
   "metadata": {},
   "source": [
    "**Вывод:**\n",
    "\n",
    "Предварительно, можно сделать вывод о том, что клиенты целевой группы совершали **в среднем на 22.2% покупок меньше**, чем в контрольной группе. Это может объясняется тем, что выбор целевой группы пал на более дорогие вещи, однако сократив при этом их численность."
   ]
  },
  {
   "cell_type": "code",
   "execution_count": 27,
   "id": "464694f8",
   "metadata": {
    "scrolled": true
   },
   "outputs": [
    {
     "name": "stdout",
     "output_type": "stream",
     "text": [
      "Средняя сумма покупки (рубли) старого клиента целевой группы:\n",
      "454.08\n",
      "Средняя сумма покупки (рубли) старого клиента контрольной группы:\n",
      "473.02\n"
     ]
    }
   ],
   "source": [
    "outflow_target_mean = outflow_target_sampled.pivot_table(index='customer_id',\n",
    "                                    values='monetary_amt',\n",
    "                                    aggfunc='mean')\n",
    "outflow_target_mean = outflow_target_mean.rename(columns={'monetary_amt': 'mean'})\n",
    "\n",
    "\n",
    "outflow_control_mean = outflow_control.pivot_table(index='customer_id',\n",
    "                                    values='monetary_amt',\n",
    "                                    aggfunc='mean')\n",
    "outflow_control_mean = outflow_control_mean.rename(columns={'monetary_amt': 'mean'})\n",
    "\n",
    "print('Средняя сумма покупки (рубли) старого клиента целевой группы:')\n",
    "print(outflow_target_mean['mean'].mean().round(2))\n",
    "print('Средняя сумма покупки (рубли) старого клиента контрольной группы:')\n",
    "print(outflow_control_mean['mean'].mean().round(2))"
   ]
  },
  {
   "cell_type": "markdown",
   "id": "b749d64a",
   "metadata": {},
   "source": [
    "**Вывод:**\n",
    "\n",
    "Предварительно, можно сделать вывод о том, что клиенты целевой группы совершали покупки товаров, которые **в среднем на 4.17% дешевле**, чем у клиентов контрольной группы, **что опровергает выдвинутое выше предположение.**"
   ]
  },
  {
   "cell_type": "code",
   "execution_count": 28,
   "id": "9d3f7425",
   "metadata": {},
   "outputs": [
    {
     "name": "stdout",
     "output_type": "stream",
     "text": [
      "Сумма покупок (рубли) старых клиентов целевой группы:\n",
      "197338.71\n",
      "Сумма покупок (рубли) старых клиентов контрольной группы:\n",
      "202315.13\n"
     ]
    }
   ],
   "source": [
    "outflow_target_sum = outflow_target_sampled.pivot_table(index='customer_id',\n",
    "                                    values='monetary_amt',\n",
    "                                    aggfunc='sum')\n",
    "outflow_target_sum = outflow_target_sum.rename(columns={'monetary_amt': 'sum'})\n",
    "\n",
    "\n",
    "outflow_control_sum = outflow_control.pivot_table(index='customer_id',\n",
    "                                    values='monetary_amt',\n",
    "                                    aggfunc='sum')\n",
    "outflow_control_sum = outflow_control_sum.rename(columns={'monetary_amt': 'sum'})\n",
    "\n",
    "print('Сумма покупок (рубли) старых клиентов целевой группы:')\n",
    "print(outflow_target_sum['sum'].sum().round(2))\n",
    "print('Сумма покупок (рубли) старых клиентов контрольной группы:')\n",
    "print(outflow_control_sum['sum'].sum().round(2))"
   ]
  },
  {
   "cell_type": "markdown",
   "id": "bfea08f4",
   "metadata": {},
   "source": [
    "**Вывод:**\n",
    "\n",
    "Предварительно, можно сделать вывод о том, что клиенты целевой группы в совокупности **потратили на 2.52% меньше**, чем клиенты контрольной группы. Можно предположить, что акция дала обратный эффект - уменьшила траты клиентов и количество их покупок. Однако, можно заключить, что **акция неэффективна**.\n",
    "\n",
    "\n",
    "**Вывод по разделу:**\n",
    "\n",
    "Предварительная оценка акций позволила нам сделать следующие выводы:\n",
    "* акция для новых клиетов оказалось **эффективной** - покупок **меньше на 16.62%**, но в среднем их стоимость **выше на 4.81%**, и в совокупности они принесли прибыли в рублях **больше на 4.13%**;\n",
    "* акция для старых клиенов оказалось **неэффективна** - покупок **меньше на 22.22%** и в среднем их стоимость **ниже на 4.17%**, и в совокупности они принесли прибыли в рублях **меньше на 2.52%**."
   ]
  },
  {
   "cell_type": "markdown",
   "id": "a23f9b77",
   "metadata": {},
   "source": [
    "<a id=\"3\"></a> <br>\n",
    "***\n",
    "# Анализ эффективности акций (t-test)\n",
    "\n",
    "Для оценки эффективности возьмем метрики, которые ранее показали значительные положительные изменения."
   ]
  },
  {
   "cell_type": "markdown",
   "id": "396bd19f",
   "metadata": {},
   "source": [
    "***\n",
    "**Акция для клиентов из сегмента «Новые»**"
   ]
  },
  {
   "cell_type": "markdown",
   "id": "8b5b8c0b",
   "metadata": {},
   "source": [
    "Выполненим двусторонний t-теста на независимых выборках. Эта функция используется для сравнения средних значений двух выборок и определения, есть ли статистически значимая разница между ними."
   ]
  },
  {
   "cell_type": "markdown",
   "id": "edbfba1e",
   "metadata": {},
   "source": [
    "**Проверим метрику`Средний оборот (рубли) на клиента`:**"
   ]
  },
  {
   "cell_type": "code",
   "execution_count": 29,
   "id": "d66e06d8",
   "metadata": {},
   "outputs": [
    {
     "name": "stdout",
     "output_type": "stream",
     "text": [
      "Средний оборот (рубли) нового клиента целевой группы:\n",
      "446.89\n",
      "Средний оборот (рубли) нового клиента контрольной группы:\n",
      "425.39\n"
     ]
    }
   ],
   "source": [
    "print('Средний оборот (рубли) нового клиента целевой группы:')\n",
    "print(new_target_mean['mean'].mean().round(2))\n",
    "print('Средний оборот (рубли) нового клиента контрольной группы:')\n",
    "print(new_control_mean['mean'].mean().round(2))"
   ]
  },
  {
   "cell_type": "markdown",
   "id": "957fbdd6",
   "metadata": {},
   "source": [
    "Предположим что это могло произойти случайно. Пусть нулевая гипотеза звучит так - средний оборот (рубли) на одного клиента целевой и контрольной групп равны. Альтернативная - не равны."
   ]
  },
  {
   "cell_type": "code",
   "execution_count": 30,
   "id": "0e953dd7",
   "metadata": {},
   "outputs": [
    {
     "name": "stdout",
     "output_type": "stream",
     "text": [
      "p-значение: 0.3960429735792196\n",
      "Не получилось отвергнуть нулевую гипотезу\n"
     ]
    }
   ],
   "source": [
    "# установим уровень доверия чуть выше стандартного - 0.06, равный единице минус уровень значимости\n",
    "alpha = 0.06\n",
    "\n",
    "results = st.ttest_ind(new_target_mean['mean'], new_control_mean['mean'])\n",
    "\n",
    "print('p-значение:', results.pvalue)\n",
    "\n",
    "if results.pvalue < alpha:\n",
    "    print('Отвергаем нулевую гипотезу')\n",
    "else:\n",
    "    print('Не получилось отвергнуть нулевую гипотезу') "
   ]
  },
  {
   "cell_type": "markdown",
   "id": "28df37a7",
   "metadata": {},
   "source": [
    "**Вывод:**\n",
    "\n",
    "**С вероятностью 39.6 % различие можно было получить случайно**. Это значит, что вероятнее всего сумма оборота (рубли) целевой и контрольной групп не отличается"
   ]
  },
  {
   "cell_type": "markdown",
   "id": "92a9463e",
   "metadata": {},
   "source": [
    "**Проверим метрику `Среднее количество покупок на одного клиента`:**"
   ]
  },
  {
   "cell_type": "code",
   "execution_count": 31,
   "id": "6cddfff1",
   "metadata": {},
   "outputs": [
    {
     "name": "stdout",
     "output_type": "stream",
     "text": [
      "Среднее количество покупок на нового клиента целевой группы:\n",
      "1.033\n",
      "Среднее количество покупок на нового клиента контрольной группы:\n",
      "1.204\n"
     ]
    }
   ],
   "source": [
    "print('Среднее количество покупок на нового клиента целевой группы:')\n",
    "print(new_target_customer['count'].mean().round(3))\n",
    "print('Среднее количество покупок на нового клиента контрольной группы:')\n",
    "print(new_control_customer['count'].mean().round(3))"
   ]
  },
  {
   "cell_type": "markdown",
   "id": "018f0393",
   "metadata": {},
   "source": [
    "Предположим что это могло произойти случайно. Пусть нулевая гипотеза звучит так - среднее количество покупок на клиента равное. Альтернативная - не равное."
   ]
  },
  {
   "cell_type": "code",
   "execution_count": 32,
   "id": "2bc81daa",
   "metadata": {},
   "outputs": [
    {
     "name": "stdout",
     "output_type": "stream",
     "text": [
      "p-значение: 4.8718055584632767e-32\n",
      "Отвергаем нулевую гипотезу\n"
     ]
    }
   ],
   "source": [
    "results = st.ttest_ind(new_target_customer['count'], new_control_customer['count'])\n",
    "\n",
    "print('p-значение:', results.pvalue)\n",
    "\n",
    "if results.pvalue < alpha:\n",
    "    print('Отвергаем нулевую гипотезу')\n",
    "else:\n",
    "    print('Не получилось отвергнуть нулевую гипотезу')"
   ]
  },
  {
   "cell_type": "markdown",
   "id": "5a315d59",
   "metadata": {},
   "source": [
    "**Выводы:**\n",
    "\n",
    "Отвеграем нулевую гипотезу, следовательно **количество покупок уменьшилось из-за акции**."
   ]
  },
  {
   "cell_type": "markdown",
   "id": "a458ef21",
   "metadata": {},
   "source": [
    "<a id=\"7\"></a> <br>\n",
    "**Возьмем `Сумма оборота (рубли) новых клиентов` за ключевую метрику:**"
   ]
  },
  {
   "cell_type": "code",
   "execution_count": 33,
   "id": "bc806ad6",
   "metadata": {},
   "outputs": [
    {
     "name": "stdout",
     "output_type": "stream",
     "text": [
      "Сумма оборота (рубли) новых клиентов целевой группы:\n",
      "794567.0\n",
      "Сумма оборота (рубли) новых клиентов контрольной группы:\n",
      "761760.32\n"
     ]
    }
   ],
   "source": [
    "print('Сумма оборота (рубли) новых клиентов целевой группы:')\n",
    "print(new_target_sum['sum'].sum().round(2))\n",
    "print('Сумма оборота (рубли) новых клиентов контрольной группы:')\n",
    "print(new_control_sum['sum'].sum().round(2))"
   ]
  },
  {
   "cell_type": "markdown",
   "id": "df4f2b2d",
   "metadata": {},
   "source": [
    "Предположим что это могло произойти случайно. Пусть нулевая гипотеза звучит так - сумма оборота (рубли) новых клиентов целевой и контрольной групп равна. Альтернативная - не равна."
   ]
  },
  {
   "cell_type": "code",
   "execution_count": 34,
   "id": "41d45e2d",
   "metadata": {},
   "outputs": [
    {
     "name": "stdout",
     "output_type": "stream",
     "text": [
      "p-значение: 0.05694597705859967\n",
      "Отвергаем нулевую гипотезу\n"
     ]
    }
   ],
   "source": [
    "results = st.ttest_ind(new_target_sum['sum'], new_control_sum['sum'])\n",
    "\n",
    "print('p-значение:', results.pvalue)\n",
    "\n",
    "if results.pvalue < alpha:\n",
    "    print('Отвергаем нулевую гипотезу')\n",
    "else:\n",
    "    print('Не получилось отвергнуть нулевую гипотезу')"
   ]
  },
  {
   "cell_type": "markdown",
   "id": "a51fc9bc",
   "metadata": {},
   "source": [
    "**Выводы:**\n",
    "\n",
    "Отвеграем нулевую гипотезу, следовательно `ключевая метрика` - **сумма оборота в рублях увеличилась из-за акции**."
   ]
  },
  {
   "cell_type": "markdown",
   "id": "fb984187",
   "metadata": {},
   "source": [
    "***\n",
    "**Акция для клиентов из сегмента «Отток»**"
   ]
  },
  {
   "cell_type": "markdown",
   "id": "c94ebdeb",
   "metadata": {},
   "source": [
    "Акция для старых клиентов показала себя неэффективной на этапе предворительной оценки, поэтому проводить t-test нецелесообразно в рамках нашей задачи. Однако интересно проверить гипотезу о том, что данная акция повлияла на увелечение `bonus_amt` - оборот по транзакции (бонусы)."
   ]
  },
  {
   "cell_type": "markdown",
   "id": "b9c63946",
   "metadata": {},
   "source": [
    "**Проверим гипотезу. Возьмем за ключевую метрику `bonus_amt` - оборот по транзакции (бонусы) за ключевую метрику, поскольку при сравнительном анализе [выше](#6) методом `.describe()` была заметна их разница.**"
   ]
  },
  {
   "cell_type": "code",
   "execution_count": 35,
   "id": "69f8f14f",
   "metadata": {},
   "outputs": [
    {
     "name": "stdout",
     "output_type": "stream",
     "text": [
      "Средний оборот для целевой группы по транзакции (бонусы):\n",
      "215.06\n",
      "Средний оборот для контрольной группы по транзакции (бонусы):\n",
      "177.13\n"
     ]
    }
   ],
   "source": [
    "print('Средний оборот для целевой группы по транзакции (бонусы):')\n",
    "print(outflow_target_sampled['bonus_amt'].mean().round(2))\n",
    "print('Средний оборот для контрольной группы по транзакции (бонусы):')\n",
    "print(outflow_control['bonus_amt'].mean().round(2))"
   ]
  },
  {
   "cell_type": "markdown",
   "id": "1126539c",
   "metadata": {},
   "source": [
    "Предположим что это могло произойти случайно. Пусть нулевая гипотеза звучит так - средний оборот равен. Альтернативная - не равен."
   ]
  },
  {
   "cell_type": "code",
   "execution_count": 36,
   "id": "b4ce5edd",
   "metadata": {},
   "outputs": [
    {
     "name": "stdout",
     "output_type": "stream",
     "text": [
      "p-значение: 0.072\n",
      "Не получилось отвергнуть нулевую гипотезу\n"
     ]
    }
   ],
   "source": [
    "results = st.ttest_ind(outflow_target_sampled['bonus_amt'], outflow_control['bonus_amt'])\n",
    "\n",
    "print('p-значение:', results.pvalue.round(3))\n",
    "\n",
    "if results.pvalue < alpha:\n",
    "    print('Отвергаем нулевую гипотезу')\n",
    "else:\n",
    "    print('Не получилось отвергнуть нулевую гипотезу')"
   ]
  },
  {
   "cell_type": "markdown",
   "id": "86a12462",
   "metadata": {},
   "source": [
    "**Вывод:**\n",
    "\n",
    "С вероятностью 7.2 % различие можно было получить случайно. Это значит, что вероятнее всего средний оборот по транзакции (бонусы) целевой и контрольной выборок не отличается.\n",
    "\n",
    "**Вывод по разделу:**\n",
    "\n",
    "Акция для новых клиентов **доказала свою эффективность** с помощью [статистического теста](#7), который подвердил, что увеличение ключевой метрики - `суммы оборота в рублях` **получено неслучайно**."
   ]
  },
  {
   "cell_type": "markdown",
   "id": "71454897",
   "metadata": {},
   "source": [
    "<a id=\"4\"></a> <br>\n",
    "***\n",
    "# Результат в виде саммари-таблиц:"
   ]
  },
  {
   "cell_type": "markdown",
   "id": "d6a26929",
   "metadata": {},
   "source": [
    "Создадим саммари-таблицы по итогам двух акций для наглядности результатов:"
   ]
  },
  {
   "cell_type": "markdown",
   "id": "cf41bdac",
   "metadata": {},
   "source": [
    "***\n",
    "**Саммари-таблица для новых клиентов:**"
   ]
  },
  {
   "cell_type": "code",
   "execution_count": 37,
   "id": "022b1d3c",
   "metadata": {},
   "outputs": [],
   "source": [
    "# посчитаем разницу в процентах между целевой и контрольной группой\n",
    "# для количества покупок\n",
    "dif_new_1 = (((new_target_customer['count'].mean() \n",
    "                   - new_control_customer['count'].mean())/\n",
    "                    new_target_customer['count'].mean()) * 100).round(2) \n",
    "# для средней суммы покупок\n",
    "dif_new_2 = (((new_target_mean['mean'].mean() \n",
    "                   - new_control_mean['mean'].mean())/\n",
    "                    new_target_mean['mean'].mean()) * 100).round(2)\n",
    "# для суммы покупок\n",
    "dif_new_3 = (((new_target_sum['sum'].sum() \n",
    "                   - new_control_sum['sum'].sum())/\n",
    "                    new_target_sum['sum'].sum()) * 100).round(2)\n",
    "\n",
    "# Создание словаря для сводной таблицы\n",
    "new_summary_data = {\n",
    "    'категория': ['целевая',\n",
    "                'контрольная',\n",
    "                'разница (процент_%)',\n",
    "                'статистически_значимая_разница'],\n",
    "    'среднее_количество_покупок_клиента': [new_target_customer['count'].mean().round(3),\n",
    "                                           new_control_customer['count'].mean().round(3),\n",
    "                                           dif_new_1,\n",
    "                                           'да'],\n",
    "    'средний_оборот_нового_клиента': [new_target_mean['mean'].mean().round(2),\n",
    "                                      new_control_mean['mean'].mean().round(2),\n",
    "                                      dif_new_2,\n",
    "                                      'нет'],\n",
    "    'сумма_оборота_новых_клиентов': [new_target_sum['sum'].sum().round(1),\n",
    "                                     new_control_sum['sum'].sum().round(1),\n",
    "                                     dif_new_3,\n",
    "                                     'да']\n",
    "}\n",
    "\n",
    "# cоздание сводной таблицы\n",
    "new_summary_table = pd.DataFrame(new_summary_data)\n",
    "\n",
    "# результат таблицы ниже - для удобства сопоставления с таблицей"
   ]
  },
  {
   "cell_type": "markdown",
   "id": "baf3fe7d",
   "metadata": {},
   "source": [
    "***\n",
    "**Саммари-таблица для старых клиентов:**"
   ]
  },
  {
   "cell_type": "code",
   "execution_count": 38,
   "id": "d9ea3cfc",
   "metadata": {},
   "outputs": [],
   "source": [
    "dif_outflow_1 = (((outflow_target_customer['count'].mean() \n",
    "                   - outflow_control_customer['count'].mean())/\n",
    "                    outflow_target_customer['count'].mean()) * 100).round(2) \n",
    "\n",
    "dif_outflow_2 = (((outflow_target_mean['mean'].mean() \n",
    "                   - outflow_control_mean['mean'].mean())/\n",
    "                    outflow_target_mean['mean'].mean()) * 100).round(2)\n",
    "\n",
    "dif_outflow_3 = (((outflow_target_sum['sum'].sum() \n",
    "                   - outflow_control_sum['sum'].sum())/\n",
    "                    outflow_target_sum['sum'].sum()) * 100).round(2)\n",
    "\n",
    "\n",
    "outflow_summary_data = {\n",
    "    'категория': ['целевая',\n",
    "                'контрольная',\n",
    "                'разница (процент_%)'],\n",
    "    'среднее_количество_покупок_клиента': [outflow_target_customer['count'].mean().round(3),\n",
    "                                           outflow_control_customer['count'].mean().round(3),\n",
    "                                           dif_outflow_1],\n",
    "    'средний_оборот_старого_клиента': [outflow_target_mean['mean'].mean().round(2),\n",
    "                                      outflow_control_mean['mean'].mean().round(2),\n",
    "                                      dif_outflow_2],\n",
    "    'сумма_оборота_старых_клиентов': [outflow_target_sum['sum'].sum().round(1),\n",
    "                                     outflow_control_sum['sum'].sum().round(1),\n",
    "                                     dif_outflow_3]\n",
    "}\n",
    "\n",
    "outflow_summary_table = pd.DataFrame(outflow_summary_data)\n",
    "\n",
    "# результат таблицы так же ниже - для удобства сопоставления с таблицей"
   ]
  },
  {
   "cell_type": "markdown",
   "id": "406a9176",
   "metadata": {},
   "source": [
    "***\n",
    "**Мини-дашборды по новым клиентам:**"
   ]
  },
  {
   "cell_type": "markdown",
   "id": "d187cdaf",
   "metadata": {},
   "source": [
    "Создадим мини-дашборд для визуализации результатов эффективной акции:"
   ]
  },
  {
   "cell_type": "code",
   "execution_count": 44,
   "id": "f3846529",
   "metadata": {},
   "outputs": [
    {
     "data": {
      "text/plain": [
       "<matplotlib.legend.Legend at 0x17d791730>"
      ]
     },
     "execution_count": 44,
     "metadata": {},
     "output_type": "execute_result"
    },
    {
     "data": {
      "image/png": "[encoded data removed]",
      "text/plain": [
       "<Figure size 1200x500 with 2 Axes>"
      ]
     },
     "metadata": {},
     "output_type": "display_data"
    }
   ],
   "source": [
    "# отфильтруем нужные строки\n",
    "new_summary_table_filter = new_summary_table.head(2)\n",
    "# создаём области для мини-дашборда размером 1 на 2\n",
    "fig, ax = plt.subplots(1, 2, figsize=(12, 5))\n",
    "# задаем расстояние между графиками по оси х\n",
    "fig.subplots_adjust(wspace=0.4)\n",
    "# заголовок для мини-дашборда\n",
    "fig.suptitle('Новые клиенты (мини-дашборд)',\n",
    "             fontsize=25,\n",
    "             fontweight='bold',\n",
    "             y=1.2)\n",
    "# график 1 - координаты [0] указывает на размещение\n",
    "# первого графика в левой части\n",
    "ax[0].bar(new_summary_table_filter['категория'],\n",
    "             new_summary_table_filter['среднее_количество_покупок_клиента'],\n",
    "# задаем цвет графика\n",
    "             color='orange',\n",
    "# подписываем легенду\n",
    "             label='среднее кол-во покупок')\n",
    "# устанавливаем заголовок графика\n",
    "# параметром pad задаём отступ от графика\n",
    "ax[0].set_title('Среднее кол-во покупок одного клиента',\n",
    "                   fontsize=16, pad=40)\n",
    "# задаем наклон надписей\n",
    "ax[0].tick_params(axis='x', rotation=0, labelsize=12)\n",
    "# устанавливаем подпись по оси x\n",
    "# параметром fontsize задаём размер\n",
    "# параметром labelpad задаём отсуп надписи от оси\n",
    "ax[0].set_xlabel('группы', fontsize=15, labelpad=12)\n",
    "ax[0].set_ylabel('значение', fontsize=15, labelpad=12)\n",
    "# устанавливаем диапазон отображаемых значений по оси y\n",
    "ax[0].set_ylim(0.5, 1.5)\n",
    "# мы используем цикл for для перебора индексов и значений столбца \"количество\",\n",
    "# затем мы используем метод .annotate() для добавления каждого значения на график.\n",
    "# аргументы метода annotate определяют, что отображать на графике и где его разместить.\n",
    "for i, value in enumerate(new_summary_table_filter['среднее_количество_покупок_клиента']):\n",
    "    ax[0].annotate(str(value), (i, value), ha='center', va='bottom')\n",
    "ax[0].legend()    \n",
    "    \n",
    "# график 2\n",
    "ax[1].bar(new_summary_table_filter['категория'],\n",
    "             new_summary_table_filter['сумма_оборота_новых_клиентов'],\n",
    "             color='green',\n",
    "             label='сумма оборота (рубли)')\n",
    "ax[1].set_title('Сумма оборота новых клиентов',\n",
    "                   fontsize=16, pad=40)\n",
    "ax[1].tick_params(axis='x', rotation=0, labelsize=12)\n",
    "ax[1].set_xlabel('группы', fontsize=15, labelpad=12)\n",
    "ax[1].set_ylabel('сумма', fontsize=15, labelpad=12)\n",
    "ax[1].set_ylim(700_000, 820_000)\n",
    "for i, value in enumerate(new_summary_table_filter['сумма_оборота_новых_клиентов']):\n",
    "    ax[1].annotate(str(value), (i, value), ha='center', va='bottom')\n",
    "ax[1].legend()   "
   ]
  },
  {
   "cell_type": "markdown",
   "id": "a2a90e12",
   "metadata": {},
   "source": [
    "<a id=\"11\"></a> <br>\n",
    "**Самари-таблица акции для новых клиентов:**"
   ]
  },
  {
   "cell_type": "code",
   "execution_count": 40,
   "id": "5fe743e8",
   "metadata": {},
   "outputs": [
    {
     "data": {
      "text/html": [
       "<div>\n",
       "<style scoped>\n",
       "    .dataframe tbody tr th:only-of-type {\n",
       "        vertical-align: middle;\n",
       "    }\n",
       "\n",
       "    .dataframe tbody tr th {\n",
       "        vertical-align: top;\n",
       "    }\n",
       "\n",
       "    .dataframe thead th {\n",
       "        text-align: right;\n",
       "    }\n",
       "</style>\n",
       "<table border=\"1\" class=\"dataframe\">\n",
       "  <thead>\n",
       "    <tr style=\"text-align: right;\">\n",
       "      <th></th>\n",
       "      <th>категория</th>\n",
       "      <th>среднее_количество_покупок_клиента</th>\n",
       "      <th>средний_оборот_нового_клиента</th>\n",
       "      <th>сумма_оборота_новых_клиентов</th>\n",
       "    </tr>\n",
       "  </thead>\n",
       "  <tbody>\n",
       "    <tr>\n",
       "      <th>0</th>\n",
       "      <td>целевая</td>\n",
       "      <td>1.033</td>\n",
       "      <td>446.89</td>\n",
       "      <td>794567.0</td>\n",
       "    </tr>\n",
       "    <tr>\n",
       "      <th>1</th>\n",
       "      <td>контрольная</td>\n",
       "      <td>1.204</td>\n",
       "      <td>425.39</td>\n",
       "      <td>761760.3</td>\n",
       "    </tr>\n",
       "    <tr>\n",
       "      <th>2</th>\n",
       "      <td>разница (процент_%)</td>\n",
       "      <td>-16.62</td>\n",
       "      <td>4.81</td>\n",
       "      <td>4.13</td>\n",
       "    </tr>\n",
       "    <tr>\n",
       "      <th>3</th>\n",
       "      <td>статистически_значимая_разница</td>\n",
       "      <td>да</td>\n",
       "      <td>нет</td>\n",
       "      <td>да</td>\n",
       "    </tr>\n",
       "  </tbody>\n",
       "</table>\n",
       "</div>"
      ],
      "text/plain": [
       "                        категория среднее_количество_покупок_клиента  \\\n",
       "0                         целевая                              1.033   \n",
       "1                     контрольная                              1.204   \n",
       "2             разница (процент_%)                             -16.62   \n",
       "3  статистически_значимая_разница                                 да   \n",
       "\n",
       "  средний_оборот_нового_клиента сумма_оборота_новых_клиентов  \n",
       "0                        446.89                     794567.0  \n",
       "1                        425.39                     761760.3  \n",
       "2                          4.81                         4.13  \n",
       "3                           нет                           да  "
      ]
     },
     "execution_count": 40,
     "metadata": {},
     "output_type": "execute_result"
    }
   ],
   "source": [
    "new_summary_table"
   ]
  },
  {
   "cell_type": "markdown",
   "id": "bccacdfd",
   "metadata": {},
   "source": [
    "**Вывод:**\n",
    "\n",
    "Мы составили саммари-таблицу для **эффективной акции для новых клиентов** по важным метрикам и изменениям, включая ключевую - столбец `сумма_оборота_новых_клиентов`, а так же дополнили её результатами t-теста. Так же создали мини-дашборд для наглядности ключевых метрик, которые указывают на эффективность акции для новых клиентов.\n",
    "\n",
    "Из таблицы видно, что после акции: покупок **меньше на 16.62%**, но в среднем их стоимость **выше на 4.81%**, и в совокупности они принесли прибыли в рублях **больше на 4.13% (ключевая метрика)**.\n",
    "\n",
    "Так же стоит отметить одну особенность акции: клиенты стали делать меньше заказов, однако они стали дороже, что привело к увелечению прибыли в рублях."
   ]
  },
  {
   "cell_type": "markdown",
   "id": "31d5992b",
   "metadata": {},
   "source": [
    "***\n",
    "**Самари-таблица акции для старых клиентов:**"
   ]
  },
  {
   "cell_type": "code",
   "execution_count": 41,
   "id": "d3d56ec2",
   "metadata": {},
   "outputs": [
    {
     "data": {
      "text/html": [
       "<div>\n",
       "<style scoped>\n",
       "    .dataframe tbody tr th:only-of-type {\n",
       "        vertical-align: middle;\n",
       "    }\n",
       "\n",
       "    .dataframe tbody tr th {\n",
       "        vertical-align: top;\n",
       "    }\n",
       "\n",
       "    .dataframe thead th {\n",
       "        text-align: right;\n",
       "    }\n",
       "</style>\n",
       "<table border=\"1\" class=\"dataframe\">\n",
       "  <thead>\n",
       "    <tr style=\"text-align: right;\">\n",
       "      <th></th>\n",
       "      <th>категория</th>\n",
       "      <th>среднее_количество_покупок_клиента</th>\n",
       "      <th>средний_оборот_старого_клиента</th>\n",
       "      <th>сумма_оборота_старых_клиентов</th>\n",
       "    </tr>\n",
       "  </thead>\n",
       "  <tbody>\n",
       "    <tr>\n",
       "      <th>0</th>\n",
       "      <td>целевая</td>\n",
       "      <td>1.036</td>\n",
       "      <td>454.08</td>\n",
       "      <td>197338.70</td>\n",
       "    </tr>\n",
       "    <tr>\n",
       "      <th>1</th>\n",
       "      <td>контрольная</td>\n",
       "      <td>1.266</td>\n",
       "      <td>473.02</td>\n",
       "      <td>202315.10</td>\n",
       "    </tr>\n",
       "    <tr>\n",
       "      <th>2</th>\n",
       "      <td>разница (процент_%)</td>\n",
       "      <td>-22.220</td>\n",
       "      <td>-4.17</td>\n",
       "      <td>-2.52</td>\n",
       "    </tr>\n",
       "  </tbody>\n",
       "</table>\n",
       "</div>"
      ],
      "text/plain": [
       "             категория  среднее_количество_покупок_клиента  \\\n",
       "0              целевая                               1.036   \n",
       "1          контрольная                               1.266   \n",
       "2  разница (процент_%)                             -22.220   \n",
       "\n",
       "   средний_оборот_старого_клиента  сумма_оборота_старых_клиентов  \n",
       "0                          454.08                      197338.70  \n",
       "1                          473.02                      202315.10  \n",
       "2                           -4.17                          -2.52  "
      ]
     },
     "execution_count": 41,
     "metadata": {},
     "output_type": "execute_result"
    }
   ],
   "source": [
    "outflow_summary_table"
   ]
  },
  {
   "cell_type": "markdown",
   "id": "28bae69d",
   "metadata": {},
   "source": [
    "**Вывод:**\n",
    "\n",
    "Мы составили саммари-таблицу для **неэффективной акции для старых клиентов** по важным метрикам и изменениям, включая ключевую - столбец `сумма_оборота_новых_клиентов`. Т-тест не проводился, поскольку на этапе предварительной оценки не выявленно положительных изменений. \n",
    "\n",
    "Из таблицы видно, что после акции: покупок **меньше на 22.22%** и в среднем их стоимость **ниже на 4.17%**, и в совокупности они принесли прибыли в рублях **меньше на 2.52% (ключевая метрика)**."
   ]
  },
  {
   "cell_type": "markdown",
   "id": "461ef353",
   "metadata": {},
   "source": [
    "**Вывод по разделу:**\n",
    "\n",
    "Мы составили смарт-таблицы по двум акциям - для новых и старых клиентов, вывели их в одном зрительном поле для наглядности сравнения. Эффективную акцию дополнили визуализацией в виде мини-дашборода."
   ]
  },
  {
   "cell_type": "markdown",
   "id": "470d7b04",
   "metadata": {},
   "source": [
    "<a id=\"5\"></a> <br>\n",
    "***\n",
    "# Общий вывод"
   ]
  },
  {
   "cell_type": "markdown",
   "id": "022e6f0f",
   "metadata": {},
   "source": [
    "**Общий вывод:**\n",
    "\n",
    "1. Мы обработали датафрей и избавились от аномальных транзакций с нулевой [стоимостью](#8). Обогатили его двумя новыми признаками:\n",
    "* `bonus_amt` - оборот по тразнакциям (бонусы);\n",
    "* `bonus_percentage` - доля бонусов в транзакции (от 0 до 0.5).\n",
    "\n",
    "2. Далее мы разбили его на [4 ключевых группы](#10) (2 акции по 2 группы - целевые и контрольные) и привели смежные группы к размерному балансу для дальншенего анализа и проведения t-теста.\n",
    "\n",
    "\n",
    "3. Предварительная оценка [акций](#2) позволила нам сделать следующие выводы:\n",
    "* акция для новых клиетов оказалось **эффективной** - покупок **меньше на 16.62%**, но в среднем их стоимость **выше на 4.81%**, и в совокупности они принесли прибыли в рублях **больше на 4.13%**;\n",
    "* акция для старых клиенов оказалось **неэффективна** - покупок **меньше на 22.22%** и в среднем их стоимость **ниже на 4.17%**, и в совокупности они принесли прибыли в рублях **меньше на 2.52%**.\n",
    "\n",
    "4. Провели статистический [тест](#7) на акции для новых клиентов, который подвердил, что увеличение ключевой метрики - `суммы оборота в рублях` **получено неслучайно**.\n",
    "\n",
    "\n",
    "5. Для наглядности результата построили [саммари-таблицы](#11) и мини-дашборд."
   ]
  },
  {
   "cell_type": "markdown",
   "id": "ee37acbf",
   "metadata": {},
   "source": [
    "**Предложения:**\n",
    "\n",
    "Судя по [данным](#12), соотношение участников акции, которое было выбрано в данном случае, кажется некорректным. Разница в количестве участников между целевой группой (**459939 участников**) и контрольной группой (**51100 участников**) **отличается в 9 раз**.\n",
    "\n",
    "Для достоверного проведения эксперимента на акции, рекомендуется выбирать более однородные группы участников, чтобы уменьшить влияние других факторов и получить достоверные результаты. Рекомендуется пересмотреть соотношение участников между группами и уравновесить их размеры для более точного контроля и оценки результатов акции.\n",
    "\n",
    "Это поможет получить более надежные данные и корректно измерить эффективность акции. "
   ]
  }
 ],
 "metadata": {
  "kernelspec": {
   "display_name": "Python 3 (ipykernel)",
   "language": "python",
   "name": "python3"
  },
  "language_info": {
   "codemirror_mode": {
    "name": "ipython",
    "version": 3
   },
   "file_extension": ".py",
   "mimetype": "text/x-python",
   "name": "python",
   "nbconvert_exporter": "python",
   "pygments_lexer": "ipython3",
   "version": "3.9.15"
  },
  "toc": {
   "base_numbering": 1,
   "nav_menu": {},
   "number_sections": true,
   "sideBar": true,
   "skip_h1_title": false,
   "title_cell": "Table of Contents",
   "title_sidebar": "Contents",
   "toc_cell": false,
   "toc_position": {},
   "toc_section_display": true,
   "toc_window_display": false
  }
 },
 "nbformat": 4,
 "nbformat_minor": 5
}
